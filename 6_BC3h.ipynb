{
 "cells": [
  {
   "cell_type": "markdown",
   "metadata": {},
   "source": [
    "## Example 6.\n",
    "### Sensitivity of hydraulic head at a point to <font color='blue'>Cauchy BC head</font> under steady state flow conditions\n",
    "\n",
    "## 0. Forward model\n",
    "<br>\n",
    "Governing equation:\n",
    "\n",
    "$\\begin{align}\n",
    "\\quad\\quad K\\ b\\ \\frac{d^2h}{dx^2}+R=0\\cr\n",
    "\\cr\\end{align}$\n",
    "\n",
    "Boundary conditions:\n",
    "\n",
    "$\\begin{align}\n",
    "\\quad\\quad -K\\ b\\ \\frac{dh(x)}{dx}=0\\ ,\\quad\\quad\\quad\\quad\\quad\\quad\\;\\, x=0\\cr\n",
    "\\end{align}$\n",
    "\n",
    "$\\begin{align}\n",
    "\\quad\\quad -K\\ b\\ \\frac{dh(x)}{dx}=C\\ [h^*-h(x)]\\ ,\\quad\\quad x=L\\cr\n",
    "\\cr\\end{align}$\n",
    "\n",
    "Closed-form solution:\n",
    "\n",
    "$\\begin{align}\n",
    "\\quad\\quad\\rm{Not\\ available}\n",
    "\\cr\\cr\\end{align}$\n",
    "\n",
    "Spatial derivatives from differentiation:\n",
    "\n",
    "$\\begin{align}\n",
    "\\quad\\quad\\rm{Not\\ available}\n",
    "\\cr\\end{align}$"
   ]
  },
  {
   "cell_type": "code",
   "execution_count": 52,
   "metadata": {},
   "outputs": [],
   "source": [
    "from IPython.display import HTML, display\n",
    "def set_background(color):\n",
    "    script = (\n",
    "        \"var cell = this.closest('.code_cell');\"\n",
    "        \"var editor = cell.querySelector('.input_area');\"\n",
    "        \"editor.style.background='{}';\"\n",
    "        \"this.parentNode.removeChild(this)\").format(color)\n",
    "    display(HTML('<img src onerror=\"{}\">'.format(script)))"
   ]
  },
  {
   "cell_type": "code",
   "execution_count": 53,
   "metadata": {},
   "outputs": [],
   "source": [
    "from warnings import filterwarnings\n",
    "filterwarnings(\"ignore\", category=DeprecationWarning)\n",
    "\n",
    "import numpy as np\n",
    "\n",
    "K, R, b, L, BC3h, BC3c, ocol = 10., 1e-1/1000., 10., 10000., 1., 1., 5000\n",
    "X = np.arange(L)"
   ]
  },
  {
   "cell_type": "markdown",
   "metadata": {},
   "source": [
    "## 1. Direct sensitivity\n",
    "$\\begin{align}\n",
    "\\quad\\quad\\rm{Not\\ available}\n",
    "\\cr\\end{align}$"
   ]
  },
  {
   "cell_type": "markdown",
   "metadata": {},
   "source": [
    "## 2. Perturbation sensitivity\n",
    "$\\begin{align}\\cr\n",
    "\\frac{\\partial h(x')}{\\partial h_{\\Gamma_3}}\\approx\\frac{h(x,h_{\\Gamma_3}+\\Delta h_{\\Gamma_3})-h(x,h_{\\Gamma_3})}{\\Delta h_{\\Gamma_3}}\\;\n",
    "\\cr\\cr\\end{align}$\n",
    "\n",
    "### 2a. Analytical\n",
    "$\\begin{align}\n",
    "\\quad\\quad\\rm{Not\\ available}\n",
    "\\cr\\end{align}$"
   ]
  },
  {
   "cell_type": "markdown",
   "metadata": {},
   "source": [
    "### 2b. Semi-analytical\n",
    "$\\begin{align}\n",
    "\\quad\\quad\\rm{Not\\ available}\n",
    "\\cr\\end{align}$"
   ]
  },
  {
   "cell_type": "markdown",
   "metadata": {},
   "source": [
    "### 2c. Numerical"
   ]
  },
  {
   "cell_type": "code",
   "execution_count": 56,
   "metadata": {
    "scrolled": true
   },
   "outputs": [
    {
     "data": {
      "image/png": "[encoded data removed]",
      "text/plain": [
       "<Figure size 576x144 with 1 Axes>"
      ]
     },
     "metadata": {
      "needs_background": "light"
     },
     "output_type": "display_data"
    }
   ],
   "source": [
    "import flopy\n",
    "\n",
    "dpar = 1e-0\n",
    "nrow, ncol = 1, int(L)\n",
    "M0 = flopy.modflow.Modflow(modelname='model', exe_name='../mf2005.exe')\n",
    "flopy.modflow.ModflowDis(M0, nlay=1, nrow=nrow, ncol=ncol, nper=1, delr=1., delc=1., top=0., botm=-b, steady=True, \n",
    "                         perlen=1., nstp=1)\n",
    "flopy.modflow.ModflowBas(M0, ibound=np.ones([nrow, ncol]), strt=BC3h*np.ones([nrow, ncol], dtype=float))\n",
    "flopy.modflow.ModflowLpf(M0, hk=K, vka=-999., ss=-999., sy=-999., ipakcb=53)\n",
    "flopy.modflow.ModflowRch(M0, nrchop=1, rech=R, ipakcb=53)\n",
    "flopy.modflow.ModflowGhb(M0, stress_period_data={0: [0, 0, ncol-1, BC3h, BC3c]})\n",
    "flopy.modflow.ModflowPcg(M0, hclose=1e-6, rclose=1e-6)\n",
    "flopy.modflow.ModflowOc(M0, stress_period_data={(0,0): ['save head', 'save budget']})\n",
    "M0.write_input()\n",
    "success, buff = M0.run_model(silent=True)\n",
    "H0 = flopy.utils.binaryfile.HeadFile('model.hds').get_data()[0,0,:]\n",
    "\n",
    "%matplotlib inline\n",
    "import matplotlib as mpl\n",
    "import matplotlib.pyplot as plt\n",
    "plt.subplots(figsize=[8,2])\n",
    "plt.plot(X/1000., H0, 'k--', mfc='none', label='forward solution, numerical')\n",
    "plt.xlabel('$x$ (km)')\n",
    "plt.ylabel('$h$ (m)')\n",
    "plt.legend(loc=3);"
   ]
  },
  {
   "cell_type": "code",
   "execution_count": 57,
   "metadata": {},
   "outputs": [
    {
     "data": {
      "image/png": "[encoded data removed]",
      "text/plain": [
       "<Figure size 576x144 with 1 Axes>"
      ]
     },
     "metadata": {
      "needs_background": "light"
     },
     "output_type": "display_data"
    }
   ],
   "source": [
    "M1 = M0\n",
    "flopy.modflow.ModflowGhb(M1, stress_period_data={0: [0, 0, ncol-1, BC3h+BC3h*dpar, BC3c]})\n",
    "M1.write_input()\n",
    "success, buff = M1.run_model(silent=True)\n",
    "H1 = flopy.utils.binaryfile.HeadFile('model.hds').get_data()[0,0,:]\n",
    "dhdBC3h = (H1-H0)/(BC3h*dpar)\n",
    "\n",
    "%matplotlib inline\n",
    "import matplotlib as mpl\n",
    "import matplotlib.pyplot as plt\n",
    "plt.subplots(figsize=[8,2])\n",
    "plt.plot(X/1000., dhdBC3h, 'k--', mfc='none', label='perturbation sensitivity, numerical')\n",
    "plt.xlabel('$x$ (km)')\n",
    "plt.ylabel(r'$\\partial h / \\partial h_{\\Gamma_3}$')\n",
    "plt.legend()\n",
    "plt.ylim(0.95, 1.05);"
   ]
  },
  {
   "cell_type": "code",
   "execution_count": 58,
   "metadata": {},
   "outputs": [
    {
     "data": {
      "text/html": [
       "<img src onerror=\"var cell = this.closest('.code_cell');var editor = cell.querySelector('.input_area');editor.style.background='rgba(0, 200, 0, 0.2)';this.parentNode.removeChild(this)\">"
      ],
      "text/plain": [
       "<IPython.core.display.HTML object>"
      ]
     },
     "metadata": {},
     "output_type": "display_data"
    },
    {
     "name": "stdout",
     "output_type": "stream",
     "text": [
      "1.000000\n"
     ]
    }
   ],
   "source": [
    "set_background('rgba(0, 200, 0, 0.2)')\n",
    "print('%.6f'% dhdBC3h[ocol])"
   ]
  },
  {
   "cell_type": "markdown",
   "metadata": {},
   "source": [
    "## 3. Adjoint sensitivity\n",
    "\n",
    "<br>\n",
    "    \n",
    "$\\begin{align}\n",
    "\\quad\\quad \\frac{\\partial h(x')}{\\partial h_{\\Gamma_3}}=\\oint\\limits_{\\Gamma_3}\\psi^*_1(x)\\ C_{\\Gamma_3}\\; dx\\ =\\ \\psi^*_1(\\Gamma_3)\\ C_{\\Gamma_3}\n",
    "\\cr\\end{align}$\n",
    "\n",
    "Governing equation:\n",
    "\n",
    "$\\begin{align}\n",
    "\\quad\\quad K\\ b\\ \\frac{d\\psi^*_1}{dx}+\\frac{1}{2\\ K\\ b}\\delta(x-x')=0\\cr\n",
    "\\cr\\end{align}$\n",
    "\n",
    "Boundary conditions: \n",
    "\n",
    "$\\begin{align}\n",
    "\\quad\\quad \\psi^*_1(x)=0\\ ,\\quad\\quad\\quad\\quad x=0\\cr\n",
    "\\end{align}$\n",
    "\n",
    "$\\begin{align}\n",
    "\\quad\\quad(\\rm{undefined\\ on\\ }\\Gamma_3)\\cr\n",
    "\\cr\\end{align}$\n",
    "\n",
    "Closed-form solution:\n",
    "\n",
    "$\\begin{align}\n",
    "\\quad\\quad\\rm{Not\\ available}\n",
    "\\cr\\end{align}$"
   ]
  },
  {
   "cell_type": "markdown",
   "metadata": {},
   "source": [
    "### 3a. Analytical\n",
    "$\\begin{align}\n",
    "\\quad\\quad\\rm{Not\\ available}\n",
    "\\cr\\end{align}$"
   ]
  },
  {
   "cell_type": "markdown",
   "metadata": {},
   "source": [
    "### 3b. Semi-analytical\n",
    "$\\begin{align}\n",
    "\\quad\\quad\\rm{Not\\ available}\n",
    "\\cr\\end{align}$"
   ]
  },
  {
   "cell_type": "markdown",
   "metadata": {},
   "source": [
    "### 3c. Numerical"
   ]
  },
  {
   "cell_type": "code",
   "execution_count": 63,
   "metadata": {},
   "outputs": [
    {
     "data": {
      "image/png": "[encoded data removed]",
      "text/plain": [
       "<Figure size 576x144 with 1 Axes>"
      ]
     },
     "metadata": {
      "needs_background": "light"
     },
     "output_type": "display_data"
    }
   ],
   "source": [
    "M0 = flopy.modflow.Modflow(modelname='model', exe_name='../mf2005.exe')\n",
    "flopy.modflow.ModflowDis(M0, nlay=1, nrow=1, ncol=ncol, nper=1, delr=1., delc=1., top=0., botm=-b, steady=True, \n",
    "                         perlen=1., nstp=1)\n",
    "flopy.modflow.ModflowBas(M0, ibound=np.ones([nrow, ncol]), strt=BC3h*np.ones([nrow, ncol], dtype=float))\n",
    "flopy.modflow.ModflowLpf(M0, hk=K, vka=-999., ss=-999., sy=-999., ipakcb=53)\n",
    "flopy.modflow.ModflowGhb(M0, stress_period_data={0: [0, 0, ncol-1, 0., BC3c]})\n",
    "flopy.modflow.ModflowWel(M0, stress_period_data={0: [0, 0, ocol, 1.]})\n",
    "flopy.modflow.ModflowPcg(M0, hclose=1e-6, rclose=1e-6)\n",
    "flopy.modflow.ModflowOc(M0, stress_period_data={(0,0): ['save head', 'save budget']})\n",
    "M0.write_input()\n",
    "success, buff = M0.run_model(silent=True)\n",
    "A = flopy.utils.binaryfile.HeadFile('model.hds').get_data()[0,0,:]\n",
    "\n",
    "%matplotlib inline\n",
    "import matplotlib as mpl\n",
    "import matplotlib.pyplot as plt\n",
    "plt.subplots(figsize=[8,2])\n",
    "plt.plot(X/1000., A, 'k--', mfc='none', label='adjoint solution, numerical')\n",
    "plt.xlabel('$x$ (km)')\n",
    "plt.ylabel(r'$\\psi^*_1$ (T/$L^2$)')\n",
    "plt.legend(loc=3);"
   ]
  },
  {
   "cell_type": "code",
   "execution_count": 62,
   "metadata": {},
   "outputs": [
    {
     "data": {
      "image/png": "[encoded data removed]",
      "text/plain": [
       "<Figure size 576x144 with 1 Axes>"
      ]
     },
     "metadata": {
      "needs_background": "light"
     },
     "output_type": "display_data"
    }
   ],
   "source": [
    "dhdBC3h = np.empty(0)\n",
    "for oc,xp in enumerate(X[::1000]):\n",
    "    M1 = M0\n",
    "    flopy.modflow.ModflowWel(M1, stress_period_data={0: [0, 0, oc, 1.]})\n",
    "    M1.write_input()\n",
    "    success, buff = M1.run_model(silent=True)\n",
    "    A = flopy.utils.binaryfile.HeadFile('model.hds').get_data()[0,0,:]\n",
    "    dhdBC3h = np.append(dhdBC3h, A[-1]*BC3c)\n",
    "\n",
    "%matplotlib inline\n",
    "import matplotlib as mpl\n",
    "import matplotlib.pyplot as plt\n",
    "plt.subplots(figsize=[8,2])\n",
    "plt.plot(X[::1000]/1000., dhdBC3h, 'k--', mfc='none', label='adjoint sensitivity, numerical')\n",
    "plt.xlabel('$x$ (km)')\n",
    "plt.ylabel(r'$\\partial h / \\partial h_{\\Gamma_3}$')\n",
    "plt.legend();"
   ]
  },
  {
   "cell_type": "code",
   "execution_count": 64,
   "metadata": {},
   "outputs": [
    {
     "data": {
      "text/html": [
       "<img src onerror=\"var cell = this.closest('.code_cell');var editor = cell.querySelector('.input_area');editor.style.background='rgba(0, 200, 0, 0.2)';this.parentNode.removeChild(this)\">"
      ],
      "text/plain": [
       "<IPython.core.display.HTML object>"
      ]
     },
     "metadata": {},
     "output_type": "display_data"
    },
    {
     "name": "stdout",
     "output_type": "stream",
     "text": [
      "1.000000\n"
     ]
    }
   ],
   "source": [
    "set_background('rgba(0, 200, 0, 0.2)')\n",
    "print('%.6f'% dhdBC3h[int(np.where(X[::1000]==float(ocol))[0])])"
   ]
  },
  {
   "cell_type": "code",
   "execution_count": null,
   "metadata": {},
   "outputs": [],
   "source": []
  }
 ],
 "metadata": {
  "kernelspec": {
   "display_name": "Python 3",
   "language": "python",
   "name": "python3"
  },
  "language_info": {
   "codemirror_mode": {
    "name": "ipython",
    "version": 3
   },
   "file_extension": ".py",
   "mimetype": "text/x-python",
   "name": "python",
   "nbconvert_exporter": "python",
   "pygments_lexer": "ipython3",
   "version": "3.8.5"
  }
 },
 "nbformat": 4,
 "nbformat_minor": 4
}
