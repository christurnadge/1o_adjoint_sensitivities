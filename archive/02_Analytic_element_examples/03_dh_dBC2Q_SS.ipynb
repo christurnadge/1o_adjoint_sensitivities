{
 "cells": [
  {
   "cell_type": "markdown",
   "metadata": {},
   "source": [
    "### Sensitivity of hydraulic head at a point to Neumann boundary value under steady state flow conditions"
   ]
  },
  {
   "cell_type": "markdown",
   "metadata": {},
   "source": [
    "The sensitivity of hydraulic head ($h$) at a given point ($x'$) to the value specified on a Dirichlet boundary (i.e. on $\\Gamma_2$) under steady state flow conditions in a one-dimensional plane can be calculated using an adjoint state-based approach as:\n",
    "$$\\begin{align}\\cr\n",
    "\\frac{\\partial h(x')}{\\partial Q_{\\Gamma_2}}=\\oint\\limits_{\\Gamma_2} \\psi^*(x)\\;dx\n",
    "\\cr\\cr\\end{align}$$\n",
    "This expression states that this sensitivity is equal to the integral of the adjoint state variable along the Neumann boundary, as calculated by the adjoint state model."
   ]
  },
  {
   "cell_type": "markdown",
   "metadata": {},
   "source": [
    "### 1. Model setup"
   ]
  },
  {
   "cell_type": "markdown",
   "metadata": {},
   "source": [
    "The forward model is defined using the following five parameters:\n",
    "1. Location of Dirichlet boundary ($x_{\\Gamma_1}$)\n",
    "2. Hydraulic head specified on Dirichlet boundary ($h_{\\Gamma_1}$) \n",
    "3. Location of Neumann boundary ($x_{\\Gamma_2}$)\n",
    "4. Flux specified on Neumann boundary ($Q_{\\Gamma_2}$) \n",
    "5. Hydraulic conductivity ($K$)\n",
    "\n",
    "Top and bottom of aquifer elevations are set to -100.0 and -101.0 metres respectively (resulting in an aquifer that is one metre thick) to ensure confined conditions.\n",
    "\n",
    "Neumann boundary conditions are specified on the left-hand side of the model to represent inflows.\n",
    "\n",
    "Dirichlet boundary conditions are specified on the right-hand side of the model to represent outflows.\n",
    "\n",
    "The hydraulic head observation of interest is located at the midpoint of the model domain (i.e. at $x_{obs}$).\n",
    "\n",
    "Values for the 'base' parameter set are defined as follows. These can be modified to demonstrate the method for other model configurations."
   ]
  },
  {
   "cell_type": "code",
   "execution_count": 1,
   "metadata": {},
   "outputs": [],
   "source": [
    "import numpy as np\n",
    "\n",
    "BC1x  = 7.0\n",
    "BC1h  = 1.0\n",
    "BC2x  = 0.0\n",
    "BC2Q  = 1.0\n",
    "obsx  = (BC1x-BC2x)/2.\n",
    "K     = 0.2\n",
    "dpar  = 1e-4\n",
    "dx    = 1.0\n",
    "X     = np.arange(BC2x+0.5, BC1x-0.5+dx, dx)"
   ]
  },
  {
   "cell_type": "markdown",
   "metadata": {},
   "source": [
    "The forward model and boundary conditions can be presented visually as follows."
   ]
  },
  {
   "cell_type": "code",
   "execution_count": 2,
   "metadata": {},
   "outputs": [
    {
     "data": {
      "image/png": "[encoded data removed]",
      "text/plain": [
       "<Figure size 680.315x226.772 with 1 Axes>"
      ]
     },
     "metadata": {
      "needs_background": "light"
     },
     "output_type": "display_data"
    }
   ],
   "source": [
    "%matplotlib inline\n",
    "import matplotlib as mpl\n",
    "import matplotlib.pyplot as plt\n",
    "\n",
    "f,s = plt.subplots(1, 1, figsize=[24.00/2.54, 8.00/2.54])\n",
    "s.set_aspect(1.5)\n",
    "s.set_title('Forward model grid and boundary conditions\\n')\n",
    "s.set_xlim(BC2x-0.5, BC1x+0.5)\n",
    "s.set_ylim(0., 1.)\n",
    "s.set_xlabel('$x$ (m)')\n",
    "s.set_ylabel('$z$ (m)')\n",
    "s.plot([BC2x, BC1x], [0.5, 0.5], 'k-', lw=1.)\n",
    "s.plot(BC2x, 0.5, 'o', ms=12, mfc='b', mec='k', label='Neumann boundary condition ($\\Gamma_2$)') \n",
    "s.plot(obsx, 0.5, 'o', ms=12, mfc='purple', mec='k', label=\"Observation well location ($x'$)\") \n",
    "s.plot(BC1x, 0.5, 'o', ms=12, mfc='r', mec='k', label='Dirichlet boundary condition ($\\Gamma_1$)') \n",
    "s.spines['right'].set_visible(False)\n",
    "s.spines['top'].set_visible(False)\n",
    "l = f.legend(fancybox=False, frameon=False, loc=8, ncol=3)"
   ]
  },
  {
   "cell_type": "markdown",
   "metadata": {},
   "source": [
    "### 2. Sensitivity calculation using perturbation-based approach"
   ]
  },
  {
   "cell_type": "markdown",
   "metadata": {},
   "source": [
    "First, the forward model featuring the 'base' parameter set is run."
   ]
  },
  {
   "cell_type": "code",
   "execution_count": 3,
   "metadata": {},
   "outputs": [
    {
     "name": "stdout",
     "output_type": "stream",
     "text": [
      "Starting solve\n",
      "Number of elements:  2\n",
      "Percent progress:  0  \n",
      "size of matrix (1L, 1L)\n",
      "Solution complete\n"
     ]
    }
   ],
   "source": [
    "import timml\n",
    "\n",
    "ml  = timml.Model(k=[K], zb=[-101.], zt=[-100.], c=[1.])\n",
    "BC1 = timml.HeadLineSink(ml, x1=BC1x, y1=-100., x2=BC1x, y2=100., head = BC1h)\n",
    "BC2 = timml.LineSink(    ml, x1=BC2x, y1=-100., x2=BC2x, y2=100., sigma=-BC2Q)\n",
    "ml.solve()\n",
    "\n",
    "hds_base = np.array([ml.head(0, x, 0.) for x in X])\n",
    "hob_base = ml.head(0, obsx, 0.)"
   ]
  },
  {
   "cell_type": "markdown",
   "metadata": {},
   "source": [
    "The spatial distribution of hydraulic head calculated by the 'base' forward model can be presented visually as follows."
   ]
  },
  {
   "cell_type": "code",
   "execution_count": 4,
   "metadata": {},
   "outputs": [
    {
     "data": {
      "image/png": "[encoded data removed]",
      "text/plain": [
       "<Figure size 680.315x226.772 with 1 Axes>"
      ]
     },
     "metadata": {
      "needs_background": "light"
     },
     "output_type": "display_data"
    }
   ],
   "source": [
    "f,s = plt.subplots(1, 1, figsize=[24.00/2.54, 8.00/2.54])\n",
    "s.set_title('Forward model - base parameter set\\n')\n",
    "s.set_aspect(0.04)\n",
    "s.plot(X, hds_base, 'ko--', mfc='none')\n",
    "s.set_xlabel('$x$ (m)')\n",
    "s.set_ylabel('$h$ (m)')\n",
    "s.set_xlim(BC2x, BC1x)\n",
    "s.spines['top'].set_visible(False)            \n",
    "s.spines['right'].set_visible(False) "
   ]
  },
  {
   "cell_type": "markdown",
   "metadata": {},
   "source": [
    "Second, a perturbed forward model featuring an infinitesimal increase in $Q_{\\Gamma_2}$ is run. "
   ]
  },
  {
   "cell_type": "code",
   "execution_count": 5,
   "metadata": {},
   "outputs": [
    {
     "name": "stdout",
     "output_type": "stream",
     "text": [
      "Starting solve\n",
      "Number of elements:  2\n",
      "Percent progress:  0  \n",
      "size of matrix (1L, 1L)\n",
      "Solution complete\n"
     ]
    }
   ],
   "source": [
    "ml  = timml.Model(k=[K], zb=[-101.], zt=[-100.], c=[1.])\n",
    "BC1 = timml.HeadLineSink(ml, x1=BC1x, y1=-100., x2=BC1x, y2=100., head = BC1h)\n",
    "BC2 = timml.LineSink(    ml, x1=BC2x, y1=-100., x2=BC2x, y2=100., sigma=-BC2Q*(1.+dpar))\n",
    "ml.solve()\n",
    "\n",
    "hds_pert = np.array([ml.head(0, x, 0.) for x in X])\n",
    "hob_pert = ml.head(0, obsx, 0.)"
   ]
  },
  {
   "cell_type": "markdown",
   "metadata": {},
   "source": [
    "The spatial distribution of hydraulic head calculated by the perturbed forward model can be presented visually as follows."
   ]
  },
  {
   "cell_type": "code",
   "execution_count": 6,
   "metadata": {},
   "outputs": [
    {
     "data": {
      "image/png": "[encoded data removed]",
      "text/plain": [
       "<Figure size 680.315x226.772 with 1 Axes>"
      ]
     },
     "metadata": {
      "needs_background": "light"
     },
     "output_type": "display_data"
    }
   ],
   "source": [
    "f,s = plt.subplots(1, 1, figsize=[24.00/2.54, 8.00/2.54])\n",
    "s.set_title('Forward model - perturbed parameter set\\n')\n",
    "s.set_aspect(0.04)\n",
    "s.plot(X, hds_pert, 'ko--', mfc='none')\n",
    "s.set_xlabel('$x$ (m)')\n",
    "s.set_ylabel('$h$ (m)')\n",
    "s.set_xlim(BC2x, BC1x)\n",
    "s.spines['top'].set_visible(False)            \n",
    "s.spines['right'].set_visible(False)            "
   ]
  },
  {
   "cell_type": "markdown",
   "metadata": {},
   "source": [
    "Third, the perturbation-based sensitivity is calculated."
   ]
  },
  {
   "cell_type": "code",
   "execution_count": 7,
   "metadata": {},
   "outputs": [],
   "source": [
    "dh_dBC2Q_pert = (hob_pert-hob_base)/(BC2Q*dpar)"
   ]
  },
  {
   "cell_type": "markdown",
   "metadata": {},
   "source": [
    "### 3. Sensitivity calculation using adjoint state-based approach"
   ]
  },
  {
   "cell_type": "markdown",
   "metadata": {},
   "source": [
    "First, the adjoint state model is defined. This is mostly identical to the forward model, except for three conditions: \n",
    "1. The value specified on the Dirichlet boundary is set to zero.\n",
    "2. The flux specified on the Neumann boundary is set to zero; for this reason, a no-flow boundary condition is applied instead.\n",
    "3. A constant source of adjoint state is specified at the location of the hydraulic head observation of interest using a  source term with flux magnitude equal to unity."
   ]
  },
  {
   "cell_type": "code",
   "execution_count": 8,
   "metadata": {},
   "outputs": [
    {
     "name": "stdout",
     "output_type": "stream",
     "text": [
      "Starting solve\n",
      "Number of elements:  3\n",
      "Percent progress:  0  \n",
      "size of matrix (3L, 3L)\n",
      "Solution complete\n"
     ]
    }
   ],
   "source": [
    "ml  = timml.Model(k=[K], zb=[-101.], zt=[-100.], c=[1.])\n",
    "BC1 = timml.HeadLineSink(  ml, x1=BC1x, y1=-100., x2=BC1x, y2=100., head = 0.0)\n",
    "BC2 = timml.LineDoubletImp(ml, x1=BC2x, y1=-100., x2=BC2x, y2=100., order= 1)\n",
    "lt  = timml.LineSink(      ml, x1=obsx, y1=-100., x2=obsx, y2=100., sigma=-1.0)\n",
    "ml.solve()\n",
    "\n",
    "adj = np.array([ml.head(0, x, 0.) for x in X])"
   ]
  },
  {
   "cell_type": "markdown",
   "metadata": {},
   "source": [
    "The adjoint state model grid and boundary conditions can be presented visually as follows."
   ]
  },
  {
   "cell_type": "code",
   "execution_count": 9,
   "metadata": {},
   "outputs": [
    {
     "data": {
      "image/png": "[encoded data removed]",
      "text/plain": [
       "<Figure size 680.315x226.772 with 1 Axes>"
      ]
     },
     "metadata": {
      "needs_background": "light"
     },
     "output_type": "display_data"
    }
   ],
   "source": [
    "%matplotlib inline\n",
    "import numpy as np\n",
    "import matplotlib as mpl\n",
    "import matplotlib.pyplot as plt\n",
    "from matplotlib.patches import Patch\n",
    "\n",
    "f,s = plt.subplots(1, 1, figsize=[24.00/2.54, 8.00/2.54])\n",
    "s.set_aspect(1.5)\n",
    "s.set_title('Adjoint state model and boundary conditions\\n')\n",
    "s.set_xlim(BC2x-0.5, BC1x+0.5)\n",
    "s.set_ylim(0., 1.)\n",
    "s.set_xlabel('$x$ (m)')\n",
    "s.set_ylabel('$z$ (m)')\n",
    "s.plot([BC2x, BC1x], [0.5, 0.5], 'k-', lw=1.)\n",
    "s.plot(BC2x, 0.5, 'o', ms=12, mfc='b', mec='k', \n",
    "       label='Zero-valued Neumann boundary condition ($\\Gamma_2$)') \n",
    "s.plot(obsx, 0.5, 'o', ms=12, mfc='purple', mec='k', \n",
    "       label=\"Constant unit source term at observation well location ($x'$)\") \n",
    "s.plot(BC1x, 0.5, 'o', ms=12, mfc='r', mec='k', \n",
    "       label='Dirichlet boundary condition ($\\Gamma_1$)') \n",
    "s.spines['right'].set_visible(False)\n",
    "s.spines['top'].set_visible(False)\n",
    "l = f.legend(fancybox=False, frameon=False, loc=8, ncol=3)"
   ]
  },
  {
   "cell_type": "markdown",
   "metadata": {},
   "source": [
    "The spatial distribution of the adjoint state variable calculated by the adjoint model can be presented visually as follows."
   ]
  },
  {
   "cell_type": "code",
   "execution_count": 10,
   "metadata": {},
   "outputs": [
    {
     "data": {
      "image/png": "[encoded data removed]",
      "text/plain": [
       "<Figure size 680.315x226.772 with 1 Axes>"
      ]
     },
     "metadata": {
      "needs_background": "light"
     },
     "output_type": "display_data"
    }
   ],
   "source": [
    "f,s = plt.subplots(1, 1, figsize=[24.00/2.54, 8.00/2.54])\n",
    "s.set_title('Adjoint state model\\n')\n",
    "s.set_aspect(0.08)\n",
    "s.plot(X, adj, 'ko--', mfc='none')\n",
    "s.set_xlabel('$x$ (m)')\n",
    "s.set_ylabel('$\\psi^*$ (-)')\n",
    "s.set_xlim(BC2x, BC1x)\n",
    "s.spines['top'].set_visible(False)            \n",
    "s.spines['right'].set_visible(False)            "
   ]
  },
  {
   "cell_type": "markdown",
   "metadata": {},
   "source": [
    "Second, the adjoint state sensitivity is calculated. For this example [i.e. for the sensitivity $\\partial h(x')/\\partial Q_{\\Gamma_2}$], this is calculated using a combination of forward and adjoint model outputs, as described by the equation presented above."
   ]
  },
  {
   "cell_type": "code",
   "execution_count": 11,
   "metadata": {},
   "outputs": [],
   "source": [
    "dh_dBC2Q_adj = ml.head(0, BC2x+1e-6, 0.)"
   ]
  },
  {
   "cell_type": "markdown",
   "metadata": {},
   "source": [
    "This comparison of divergence term values shows that the contribution of cells located upgradient of the observation location to the adjoint sensitivity will be zero."
   ]
  },
  {
   "cell_type": "markdown",
   "metadata": {},
   "source": [
    "### 4. Comparison of calculated sensitivities"
   ]
  },
  {
   "cell_type": "code",
   "execution_count": 13,
   "metadata": {},
   "outputs": [
    {
     "name": "stdout",
     "output_type": "stream",
     "text": [
      "Perturbation-based sensitivity  =      16.180173\n",
      "Adjoint state-based sensitivity =      17.474508\n",
      "\n",
      "Ratio                           =   9.259301e-01\n",
      "Difference (absolute)           =   1.294335e+00\n",
      "Difference (percent)            =   7.999513e-02\n"
     ]
    }
   ],
   "source": [
    "print 'Perturbation-based sensitivity  = '+str('%14.6f'%  dh_dBC2Q_pert)\n",
    "print 'Adjoint state-based sensitivity = '+str('%14.6f'%  dh_dBC2Q_adj)\n",
    "print\n",
    "print 'Ratio                           = '+str('%14.6e'% (dh_dBC2Q_pert/dh_dBC2Q_adj))\n",
    "print 'Difference (absolute)           = '+str('%14.6e'% (dh_dBC2Q_adj-dh_dBC2Q_pert))\n",
    "print 'Difference (percent)            = '+str('%14.6e'%  abs((dh_dBC2Q_adj-dh_dBC2Q_pert)/dh_dBC2Q_pert))"
   ]
  },
  {
   "cell_type": "code",
   "execution_count": null,
   "metadata": {},
   "outputs": [],
   "source": []
  }
 ],
 "metadata": {
  "anaconda-cloud": {},
  "kernelspec": {
   "display_name": "Python [default]",
   "language": "python",
   "name": "python2"
  },
  "language_info": {
   "codemirror_mode": {
    "name": "ipython",
    "version": 2
   },
   "file_extension": ".py",
   "mimetype": "text/x-python",
   "name": "python",
   "nbconvert_exporter": "python",
   "pygments_lexer": "ipython2",
   "version": "2.7.12"
  }
 },
 "nbformat": 4,
 "nbformat_minor": 2
}
