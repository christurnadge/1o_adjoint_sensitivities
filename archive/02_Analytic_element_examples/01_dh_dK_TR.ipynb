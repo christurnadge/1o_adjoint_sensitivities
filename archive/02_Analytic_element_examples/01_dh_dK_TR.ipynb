{
 "cells": [
  {
   "cell_type": "markdown",
   "metadata": {},
   "source": [
    "### Sensitivity of hydraulic head at a point to uniform hydraulic conductivity under transient flow conditions"
   ]
  },
  {
   "cell_type": "markdown",
   "metadata": {},
   "source": [
    "The sensitivity of hydraulic head ($h$) at a given point in space and time ($x',t'$) to uniform hydraulic conductivity ($K$) under transient flow conditions in a one-dimensional plane can be calculated using an adjoint state-based approach as:\n",
    "$$\\begin{align}\\cr\n",
    "\\frac{\\partial h(x',t')}{\\partial K}=\\int\\limits_T\\int\\limits_X\\nabla h\\,(x,t)\\cdot\\nabla \\psi^*(x,t)\\; dx\\;dt\n",
    "\\cr\\cr\\end{align}$$\n",
    "This expression states that this sensitivity is equal to the spatio-temporal integral of the dot product of:\n",
    "1. the divergence of hydraulic head, as calculated by the forward model; and,\n",
    "2. the divergence of the adjoint state variable, as calculated by the adjoint state model.\n",
    "\n",
    "As shown, the integration of the dot product of state variables is performed across the entire model domain and through all simulated time."
   ]
  },
  {
   "cell_type": "markdown",
   "metadata": {},
   "source": [
    "### 1. Model setup"
   ]
  },
  {
   "cell_type": "markdown",
   "metadata": {},
   "source": [
    "The forward model is defined using the following six parameters:\n",
    "1. Location of Dirichlet boundary ($x_{\\Gamma_1}$)\n",
    "2. Hydraulic head specified on Dirichlet boundary ($h_{\\Gamma_1}$) \n",
    "3. Location of Neumann boundary ($x_{\\Gamma_2}$)\n",
    "4. Flux specified on Neumann boundary ($Q_{\\Gamma_2}$) \n",
    "5. Hydraulic conductivity ($K$)\n",
    "6. Specific storage ($S_s$)\n",
    "\n",
    "Top and bottom of aquifer elevations are set to -100.0 and -101.0 metres respectively (resulting in an aquifer that is one metre thick) to ensure confined conditions.\n",
    "\n",
    "Neumann boundary conditions are specified on the left-hand side of the model to represent inflows.\n",
    "\n",
    "Dirichlet boundary conditions are specified on the right-hand side of the model to represent outflows.\n",
    "\n",
    "Initial conditions that are in equilibrium with specified boundary conditions and source/sink terms are calculated during a preceding steady state stress period. The variable $t_{max}$ is used to specify the duration of simulated time.\n",
    "\n",
    "The hydraulic head observation of interest is located at the midpoint of the model domain (i.e. at $x_{obs}$).\n",
    "\n",
    "Values for the 'base' parameter set are defined as follows. These can be modified to demonstrate the method for other model configurations."
   ]
  },
  {
   "cell_type": "code",
   "execution_count": 1,
   "metadata": {},
   "outputs": [],
   "source": [
    "import numpy as np\n",
    "\n",
    "BC1x = 7.0\n",
    "BC1h = 1.0\n",
    "BC2x = 0.0\n",
    "BC2Q = 1.0\n",
    "obsx = (BC1x-BC2x)/2.\n",
    "K    = 0.2\n",
    "Ss   = 1e-6\n",
    "dpar = 1e-4\n",
    "dx   = 1.0\n",
    "X    = np.arange(BC2x+0.5, BC1x-0.5+dx, dx)\n",
    "tmin = 0.1\n",
    "tmax = 3.0\n",
    "T    = np.arange(1., tmax+1., 1.)"
   ]
  },
  {
   "cell_type": "markdown",
   "metadata": {},
   "source": [
    "The forward model and boundary conditions can be presented visually as follows."
   ]
  },
  {
   "cell_type": "code",
   "execution_count": 2,
   "metadata": {},
   "outputs": [
    {
     "data": {
      "image/png": "[encoded data removed]",
      "text/plain": [
       "<Figure size 680.315x226.772 with 1 Axes>"
      ]
     },
     "metadata": {
      "needs_background": "light"
     },
     "output_type": "display_data"
    }
   ],
   "source": [
    "%matplotlib inline\n",
    "import matplotlib as mpl\n",
    "import matplotlib.pyplot as plt\n",
    "\n",
    "f,s = plt.subplots(1, 1, figsize=[24.00/2.54, 8.00/2.54])\n",
    "s.set_aspect(1.5)\n",
    "s.set_title('Forward model grid and boundary conditions\\n')\n",
    "s.set_xlim(BC2x-0.5, BC1x+0.5)\n",
    "s.set_ylim(0., 1.)\n",
    "s.set_xlabel('$x$ (m)')\n",
    "s.set_ylabel('$z$ (m)')\n",
    "s.plot([BC2x, BC1x], [0.5, 0.5], 'k-', lw=1.)\n",
    "s.plot(BC2x, 0.5, 'o', ms=12, mfc='b', mec='k', label='Neumann boundary condition ($\\Gamma_2$)') \n",
    "s.plot(obsx, 0.5, 'o', ms=12, mfc='purple', mec='k', label=\"Observation well location ($x'$)\") \n",
    "s.plot(BC1x, 0.5, 'o', ms=12, mfc='r', mec='k', label='Dirichlet boundary condition ($\\Gamma_1$)') \n",
    "s.spines['right'].set_visible(False)\n",
    "s.spines['top'].set_visible(False)\n",
    "l = f.legend(fancybox=False, frameon=False, loc=8, ncol=3)"
   ]
  },
  {
   "cell_type": "markdown",
   "metadata": {},
   "source": [
    "### 2. Sensitivity calculation using perturbation-based approach"
   ]
  },
  {
   "cell_type": "markdown",
   "metadata": {},
   "source": [
    "First, the forward model featuring the 'base' parameter set is run."
   ]
  },
  {
   "cell_type": "code",
   "execution_count": 3,
   "metadata": {},
   "outputs": [
    {
     "name": "stdout",
     "output_type": "stream",
     "text": [
      "self.Neq  1\n",
      "solution complete\n"
     ]
    }
   ],
   "source": [
    "import ttim\n",
    "\n",
    "ml  = ttim.Model3D(kaq=[K], z=[-100., -101.], kzoverkh=1.0, Saq=[Ss], tmin=tmin, tmax=tmax)\n",
    "BC1 = ttim.HeadLineSink(ml, x1=BC1x, y1=-100., x2=BC1x, y2=100., tsandh=[[tmin,  BC1h]])\n",
    "BC2 = ttim.LineSink(    ml, x1=BC2x, y1=-100., x2=BC2x, y2=100., tsandQ=[[tmin, -BC2Q]])\n",
    "ml.solve()\n",
    "\n",
    "hds_base = np.reshape([ml.head(x, 0., t) for x in X for t in T], [int(BC1x), int(tmax)]).T\n",
    "hob_base = ml.head(obsx, 0., tmax)"
   ]
  },
  {
   "cell_type": "markdown",
   "metadata": {},
   "source": [
    "The spatial distribution of hydraulic head calculated by the 'base' forward model can be presented visually as follows."
   ]
  },
  {
   "cell_type": "code",
   "execution_count": 4,
   "metadata": {},
   "outputs": [
    {
     "name": "stdout",
     "output_type": "stream",
     "text": [
      "(3L, 7L)\n"
     ]
    },
    {
     "data": {
      "image/png": "[encoded data removed]",
      "text/plain": [
       "<Figure size 680.315x226.772 with 1 Axes>"
      ]
     },
     "metadata": {
      "needs_background": "light"
     },
     "output_type": "display_data"
    }
   ],
   "source": [
    "f,s = plt.subplots(1, 1, figsize=[24.00/2.54, 8.00/2.54])\n",
    "s.set_title('Forward model - base parameter set\\n')\n",
    "s.set_aspect(8.)\n",
    "print np.shape(hds_base)\n",
    "s.plot(X, hds_base[-1,:], 'ko--', mfc='none')\n",
    "s.set_xlabel('$x$ (m)')\n",
    "s.set_ylabel('$h$ (m)')\n",
    "s.set_xlim(BC2x, BC1x)\n",
    "s.spines['top'].set_visible(False)            \n",
    "s.spines['right'].set_visible(False) "
   ]
  },
  {
   "cell_type": "markdown",
   "metadata": {},
   "source": [
    "Second, a perturbed forward model featuring an infinitesimal increase in $K$ is run. "
   ]
  },
  {
   "cell_type": "code",
   "execution_count": 6,
   "metadata": {},
   "outputs": [
    {
     "name": "stdout",
     "output_type": "stream",
     "text": [
      "self.Neq  1\n",
      "solution complete\n"
     ]
    }
   ],
   "source": [
    "ml  = ttim.Model3D(kaq=[K*(1.+dpar)], z=[-100., -101.], kzoverkh=1.0, Saq=[Ss], tmin=tmin, tmax=tmax)\n",
    "BC1 = ttim.HeadLineSink(ml, x1=BC1x, y1=-100., x2=BC1x, y2=100., tsandh=[[tmin,  BC1h]])\n",
    "BC2 = ttim.LineSink(    ml, x1=BC2x, y1=-100., x2=BC2x, y2=100., tsandQ=[[tmin, -BC2Q]])\n",
    "ml.solve()\n",
    "\n",
    "hds_pert = np.reshape([ml.head(x, 0., t) for x in X for t in T], [int(BC1x), int(tmax)]).T\n",
    "hob_pert = ml.head(obsx, 0., tmax)"
   ]
  },
  {
   "cell_type": "markdown",
   "metadata": {},
   "source": [
    "The spatial distribution of hydraulic head calculated by the perturbed forward model can be presented visually as follows."
   ]
  },
  {
   "cell_type": "code",
   "execution_count": 7,
   "metadata": {},
   "outputs": [
    {
     "data": {
      "image/png": "[encoded data removed]",
      "text/plain": [
       "<Figure size 680.315x226.772 with 1 Axes>"
      ]
     },
     "metadata": {
      "needs_background": "light"
     },
     "output_type": "display_data"
    }
   ],
   "source": [
    "f,s = plt.subplots(1, 1, figsize=[24.00/2.54, 8.00/2.54])\n",
    "s.set_title('Forward model - perturbed parameter set\\n')\n",
    "s.set_aspect(8.)\n",
    "s.plot(X, hds_pert[-1,:], 'ko--', mfc='none')\n",
    "s.set_xlabel('$x$ (m)')\n",
    "s.set_ylabel('$h$ (m)')\n",
    "s.set_xlim(BC2x, BC1x)\n",
    "s.spines['top'].set_visible(False)            \n",
    "s.spines['right'].set_visible(False) "
   ]
  },
  {
   "cell_type": "markdown",
   "metadata": {},
   "source": [
    "Third, the perturbation-based sensitivity is calculated."
   ]
  },
  {
   "cell_type": "code",
   "execution_count": 8,
   "metadata": {},
   "outputs": [],
   "source": [
    "dh_dK_pert = (hob_pert-hob_base)/(K*dpar)"
   ]
  },
  {
   "cell_type": "markdown",
   "metadata": {},
   "source": [
    "### 3. Sensitivity calculation using adjoint state-based approach"
   ]
  },
  {
   "cell_type": "markdown",
   "metadata": {},
   "source": [
    "First, the adjoint state model is defined. This is mostly identical to the forward model, except for three conditions: \n",
    "1. The value specified on the Dirichlet boundary is set to zero.\n",
    "2. The flux specified on the Neumann boundary is set to zero; for this reason, a no-flow boundary condition is applied instead.\n",
    "3. A constant source of adjoint state is specified at the location of the hydraulic head observation of interest using a  source term with flux magnitude equal to unity."
   ]
  },
  {
   "cell_type": "code",
   "execution_count": 9,
   "metadata": {},
   "outputs": [
    {
     "name": "stdout",
     "output_type": "stream",
     "text": [
      "self.Neq  2\n",
      "solution complete\n"
     ]
    }
   ],
   "source": [
    "ml  = ttim.Model3D(kaq=[K], z=[-100., -101.], kzoverkh=1.0, Saq=[Ss], tmin=tmin, tmax=tmax)\n",
    "BC1 = ttim.HeadLineSink(ml, x1=BC1x, y1=-100., x2=BC1x, y2=100., tsandh=[[tmin,  BC1h]])\n",
    "BC2 = ttim.LeakyLineDoubletString(ml, xy=[[BC2x, -100.], [BC2x, 100.]], res='imp')\n",
    "lt  = ttim.LineSink(ml, x1=obsx, y1=-100., x2=obsx, y2=100., tsandQ=[[tmin, -1.]])\n",
    "ml.solve()\n",
    "\n",
    "adj = np.reshape([ml.head(x, 0., t) for x in X for t in T], [int(BC1x), int(tmax)]).T\n",
    "adj[np.isnan(adj)] = 0."
   ]
  },
  {
   "cell_type": "markdown",
   "metadata": {},
   "source": [
    "The adjoint state model grid and boundary conditions can be presented visually as follows."
   ]
  },
  {
   "cell_type": "code",
   "execution_count": 10,
   "metadata": {},
   "outputs": [
    {
     "data": {
      "image/png": "[encoded data removed]",
      "text/plain": [
       "<Figure size 680.315x226.772 with 1 Axes>"
      ]
     },
     "metadata": {
      "needs_background": "light"
     },
     "output_type": "display_data"
    }
   ],
   "source": [
    "%matplotlib inline\n",
    "import numpy as np\n",
    "import matplotlib as mpl\n",
    "import matplotlib.pyplot as plt\n",
    "from matplotlib.patches import Patch\n",
    "\n",
    "f,s = plt.subplots(1, 1, figsize=[24.00/2.54, 8.00/2.54])\n",
    "s.set_aspect(1.5)\n",
    "s.set_title('Adjoint state model and boundary conditions\\n')\n",
    "s.set_xlim(BC2x-0.5, BC1x+0.5)\n",
    "s.set_ylim(0., 1.)\n",
    "s.set_xlabel('$x$ (m)')\n",
    "s.set_ylabel('$z$ (m)')\n",
    "s.plot([BC2x, BC1x], [0.5, 0.5], 'k-', lw=1.)\n",
    "s.plot(BC2x, 0.5, 'o', ms=12, mfc='b', mec='k', label='Zero-valued Neumann boundary condition ($\\Gamma_2$)') \n",
    "s.plot(obsx, 0.5, 'o', ms=12, mfc='purple', mec='k', \n",
    "       label=\"Impulse unit source term at observation well location ($x'$)\") \n",
    "s.plot(BC1x, 0.5, 'o', ms=12, mfc='r', mec='k', label='Dirichlet boundary condition ($\\Gamma_1$)') \n",
    "s.spines['right'].set_visible(False)\n",
    "s.spines['top'].set_visible(False)\n",
    "l = f.legend(fancybox=False, frameon=False, loc=8, ncol=3)"
   ]
  },
  {
   "cell_type": "markdown",
   "metadata": {},
   "source": [
    "The spatial distribution of the adjoint state variable calculated by the adjoint model can be presented visually as follows. Note that the value of the adjoint state variable is zero at the right-most cell; this is because the Dirichlet boundary condition is zero-valued in the adjoint state model."
   ]
  },
  {
   "cell_type": "code",
   "execution_count": 11,
   "metadata": {},
   "outputs": [
    {
     "data": {
      "image/png": "[encoded data removed]",
      "text/plain": [
       "<Figure size 680.315x226.772 with 1 Axes>"
      ]
     },
     "metadata": {
      "needs_background": "light"
     },
     "output_type": "display_data"
    }
   ],
   "source": [
    "f,s = plt.subplots(1, 1, figsize=[24.00/2.54, 8.00/2.54])\n",
    "s.set_title('Adjoint state model\\n')\n",
    "s.set_aspect(15.)\n",
    "s.plot(X, adj[-1,:], 'ko--', mfc='none')\n",
    "s.set_xlabel('$x$ (m)')\n",
    "s.set_ylabel('$\\psi^*$ (-)')\n",
    "s.set_xlim(BC2x, BC1x)\n",
    "s.spines['top'].set_visible(False)            \n",
    "s.spines['right'].set_visible(False)            "
   ]
  },
  {
   "cell_type": "markdown",
   "metadata": {},
   "source": [
    "Second, the adjoint state sensitivity is calculated. For this example [i.e. for the sensitivity $\\partial h(x',t\n",
    "')/\\partial K$], this is calculated using a combination of forward and adjoint model outputs, as described by the equation presented above."
   ]
  },
  {
   "cell_type": "code",
   "execution_count": 12,
   "metadata": {},
   "outputs": [],
   "source": [
    "dh_dx_base = np.abs(np.diff(hds_base))\n",
    "dh_dx_adj  = np.abs(np.diff(adj[::-1,:]))\n",
    "dh_dK_adj = -np.sum(dh_dx_base*dh_dx_adj)"
   ]
  },
  {
   "cell_type": "markdown",
   "metadata": {},
   "source": [
    "### 4. Comparison of calculated sensitivities"
   ]
  },
  {
   "cell_type": "code",
   "execution_count": 13,
   "metadata": {},
   "outputs": [
    {
     "name": "stdout",
     "output_type": "stream",
     "text": [
      "Perturbation-based sensitivity  =      -0.414077\n",
      "Adjoint state-based sensitivity =      -0.004371\n",
      "\n",
      "Ratio                           =   9.472376e+01\n",
      "Difference (absolute)           =   4.097056e-01\n",
      "Difference (percent)            =   9.894430e-01\n"
     ]
    }
   ],
   "source": [
    "print 'Perturbation-based sensitivity  = '+str('%14.6f'%  dh_dK_pert)\n",
    "print 'Adjoint state-based sensitivity = '+str('%14.6f'%  dh_dK_adj)\n",
    "print\n",
    "print 'Ratio                           = '+str('%14.6e'% (dh_dK_pert/dh_dK_adj))\n",
    "print 'Difference (absolute)           = '+str('%14.6e'% (dh_dK_adj-dh_dK_pert))\n",
    "print 'Difference (percent)            = '+str('%14.6e'%  abs((dh_dK_adj-dh_dK_pert)/dh_dK_pert))"
   ]
  },
  {
   "cell_type": "code",
   "execution_count": null,
   "metadata": {},
   "outputs": [],
   "source": []
  }
 ],
 "metadata": {
  "anaconda-cloud": {},
  "kernelspec": {
   "display_name": "Python [default]",
   "language": "python",
   "name": "python2"
  },
  "language_info": {
   "codemirror_mode": {
    "name": "ipython",
    "version": 2
   },
   "file_extension": ".py",
   "mimetype": "text/x-python",
   "name": "python",
   "nbconvert_exporter": "python",
   "pygments_lexer": "ipython2",
   "version": "2.7.12"
  }
 },
 "nbformat": 4,
 "nbformat_minor": 2
}
