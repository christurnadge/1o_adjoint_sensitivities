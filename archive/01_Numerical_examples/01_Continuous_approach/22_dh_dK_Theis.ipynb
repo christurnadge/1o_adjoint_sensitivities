{
 "cells": [
  {
   "cell_type": "markdown",
   "metadata": {},
   "source": [
    "### Sensitivity of hydraulic head at a point to uniform hydraulic conductivity for Theis (1935) solution conditions"
   ]
  },
  {
   "cell_type": "markdown",
   "metadata": {},
   "source": [
    "The sensitivity of hydraulic head ($h$) at a given point in space and time ($x',t'$) to uniform hydraulic conductivity ($K$) under transient flow conditions in a radial one-dimensional plane (i.e. consistent with the Theis [1935] analytical solution) can be calculated using an adjoint state-based approach as:\n",
    "$$\\begin{align}\\cr\n",
    "\\frac{\\partial h(r',t')}{\\partial K}=\\int\\limits_T\\int\\limits_R\\nabla h\\,(r,t)\\cdot\\nabla \\psi^*(r,t)\\;dr\\;dt\n",
    "\\cr\\cr\\end{align}$$\n",
    "This expression states that this sensitivity is equal to the spatial integral of the dot product of:\n",
    "1. the divergence of hydraulic head, as calculated by the forward model; and,\n",
    "2. the divergence of the adjoint state variable, as calculated by the adjoint state model. \n",
    "\n",
    "As shown, the spatial integration of the dot product of state variables is performed across the entire model domain and through all simulated time."
   ]
  },
  {
   "cell_type": "markdown",
   "metadata": {},
   "source": [
    "### 1. Model setup"
   ]
  },
  {
   "cell_type": "markdown",
   "metadata": {},
   "source": [
    "The Theis (1935) analytical solution for the 1-D radial spatial distribution of hydraulic head at time $t$ at a point located radius $r$ from an extraction bore under transient flow conditions is:\n",
    "$$\\begin{align}\n",
    "h(r,t)=h_0-\\frac{Q}{4\\pi T}E_i\\left(\\frac{r^2S }{4Tt}\\right)\n",
    "\\cr\\cr\\end{align}$$\n",
    "where $h_0 =$ initial hydraulic head, $Q =$ extraction flux $(L^3.T^{-1})$, $T =$ aquifer transmissivity $(L^2.T^{-1})$, $S =$ aquifer storativity (dimensionless), and $E_i$ is the exponential integral, known historically as the well function in hydrogeology."
   ]
  },
  {
   "cell_type": "markdown",
   "metadata": {},
   "source": [
    "We define the Theis solution as a callable function:"
   ]
  },
  {
   "cell_type": "code",
   "execution_count": 1,
   "metadata": {},
   "outputs": [],
   "source": [
    "from scipy.special import expi\n",
    "def Theis(r, t, Q, T, S, h0):\n",
    "    return h0-(Q/(4.*np.pi*T))*expi(((r**2.)*S)/(4.*T*t))"
   ]
  },
  {
   "cell_type": "markdown",
   "metadata": {},
   "source": [
    "We also define the numerical model as a callable function, since it will be used by each of:\n",
    "1. The forward model, featuring a 'base' set of parameter values;\n",
    "2. A perturbed version of the forward model, featuring an infinitesimal increase in $K$; and\n",
    "3. The adjoint state model.\n",
    "\n",
    "Each model is defined using the following six parameters:\n",
    "1. Number of model columns ($ncol$)\n",
    "2. Cell width along rows ($delr$)\n",
    "3. Hydraulic conductivity ($K$)\n",
    "4. Specific storage ($S_s$)\n",
    "5. Hydraulic head specified on Dirichlet boundary ($h_{\\Gamma_1}$) \n",
    "6. Volumetric flux specified on Neumann boundary ($Q_{\\Gamma_2}$) \n",
    "\n",
    "The variable $md$ is used to specify the working directory for each model.\n",
    "\n",
    "Top and bottom of aquifer elevations are set to -100.0 and -101.0 metres respectively (resulting in an aquifer that is one metre thick) to ensure confined conditions.\n",
    "\n",
    "Neumann boundary conditions are specified on the left-hand side of the model to represent an extraction bore.\n",
    "\n",
    "Robin boundary conditions are specified on the right-hand side of the model to represent a distant zero-valued head boundary.\n",
    "\n",
    "Zero-valued initial conditions are used to represent equilibrium conditions. The variable $ntper$ is used to specify the number of transient stress periods, all of which are one day in length.\n",
    "\n",
    "Relatively tight convergence criteria values (i.e. 10$^{-6}$) are specified to ensure accuracy of perturbation-based sensitivities, which are based on differences between forward model outputs.\n",
    "\n",
    "The hydraulic head observation of interest is located at the midpoint of the model domain."
   ]
  },
  {
   "cell_type": "code",
   "execution_count": 2,
   "metadata": {},
   "outputs": [
    {
     "name": "stdout",
     "output_type": "stream",
     "text": [
      "flopy is installed in C:\\Python27\\Lib\\site-packages\\flopy\n"
     ]
    }
   ],
   "source": [
    "%matplotlib inline\n",
    "import flopy\n",
    "import numpy as np\n",
    "import matplotlib as mpl\n",
    "import matplotlib.pyplot as plt\n",
    "from matplotlib.patches import Patch\n",
    "import flopy.utils.binaryfile as bf\n",
    "\n",
    "def model(md, nrow, ncol, delr, nsper, ntper, K, Ss, BC2Q, BC3h, BC3c):\n",
    "    ml =  flopy.modflow.Modflow(modelname='model', model_ws=md)\n",
    "    nrow = 1\n",
    "    flopy.modflow.ModflowDis(ml, nlay=1, nrow=1, ncol=ncol, nper=nsper+ntper, delr=delr, delc=1., \n",
    "                             top=-100.0, botm=-101.0, steady=nsper*[True]+ntper*[False], \n",
    "                             perlen=(nsper+ntper)*[1.0], nstp=(nsper+ntper)*[1])\n",
    "    ibound = np.ones([nrow, ncol], dtype=int)\n",
    "    strt = BC3h*np.ones([nrow, ncol], dtype=float)\n",
    "    flopy.modflow.ModflowBas(ml, ibound=ibound, strt=strt)\n",
    "    K = np.reshape([2.*np.pi*K*(delr*i+delr/2.) for i in range(ncol)], [1, ncol])\n",
    "    flopy.modflow.ModflowLpf(ml, hk=K, vka=-999., ss=Ss, sy=-999., layavg=1, ipakcb=53)\n",
    "    flopy.modflow.ModflowGhb(ml, stress_period_data={0: [0, 0, ncol-1, BC3h, BC3c]}, ipakcb=53)\n",
    "    flopy.modflow.ModflowWel(ml, stress_period_data={0: [0, 0,      0, BC2Q]}, ipakcb=53)\n",
    "    flopy.modflow.ModflowPcg(ml, hclose=1e-6, rclose=1e-6)\n",
    "    flopy.modflow.ModflowOc(ml, \n",
    "                            stress_period_data={(i,0): ['save head', 'save budget'] for i in range(nsper+ntper)})\n",
    "    return ml"
   ]
  },
  {
   "cell_type": "markdown",
   "metadata": {},
   "source": [
    "Values for the 'base' parameter set are defined as follows. These can be modified to demonstrate the method for other model configurations."
   ]
  },
  {
   "cell_type": "code",
   "execution_count": 3,
   "metadata": {},
   "outputs": [],
   "source": [
    "nrow  = 1\n",
    "ncol  = 7\n",
    "ocol  = (ncol-1)/2\n",
    "delr  = 1.0\n",
    "nsper = 0\n",
    "ntper = 3\n",
    "K     = 0.2\n",
    "Ss    = 1e-6\n",
    "BC2Q  = -1.0\n",
    "BC3h  = 0.0\n",
    "BC3c  = 0.24\n",
    "dpar  = 1e-4"
   ]
  },
  {
   "cell_type": "markdown",
   "metadata": {},
   "source": [
    "The forward model grid and boundary conditions can be presented visually as follows."
   ]
  },
  {
   "cell_type": "code",
   "execution_count": 4,
   "metadata": {},
   "outputs": [
    {
     "data": {
      "image/png": "[encoded data removed]",
      "text/plain": [
       "<Figure size 680.315x198.425 with 1 Axes>"
      ]
     },
     "metadata": {
      "needs_background": "light"
     },
     "output_type": "display_data"
    }
   ],
   "source": [
    "f,s = plt.subplots(1, 1, figsize=[24.00/2.54, 7.00/2.54])\n",
    "s.set_aspect('equal')\n",
    "s.set_title('Forward model grid and boundary conditions\\n')\n",
    "grid = np.hstack([np.zeros([1,1]), 0.5*np.ones([1, ncol-2]), np.ones([1,1])])\n",
    "s.pcolor(grid, edgecolors='k', linewidths=2, cmap='bwr', vmin=0.0, vmax=1.0)\n",
    "grid[0, ocol] = 2.\n",
    "s.pcolor(np.ma.masked_not_equal(grid, 2.), edgecolors='k', linewidths=2, cmap='Purples', vmin=0.0, vmax=2.0)\n",
    "s.set_xlabel('$r$ (m)')\n",
    "s.set_ylabel('$z$ (m)')\n",
    "s.set_yticks([0., 1.])\n",
    "s.set_yticklabels([-101., -100.])\n",
    "l = f.legend(handles=[Patch(facecolor='b', edgecolor='k', label='Neumann boundary condition ($\\Gamma_2$)'),\n",
    "                      Patch(facecolor='indigo', edgecolor='k', label=\"Observation well location ($r'$)\"),\n",
    "                      Patch(facecolor='r', edgecolor='k', label='Robin boundary condition ($\\Gamma_3$)')], \n",
    "             fancybox=False, frameon=False, loc=8, ncol=3)"
   ]
  },
  {
   "cell_type": "markdown",
   "metadata": {},
   "source": [
    "### 2. Sensitivity calculation using perturbation-based approach"
   ]
  },
  {
   "cell_type": "markdown",
   "metadata": {},
   "source": [
    "First, the forward model featuring the 'base' parameter set is run."
   ]
  },
  {
   "cell_type": "code",
   "execution_count": 5,
   "metadata": {},
   "outputs": [],
   "source": [
    "md = 'forward_base'\n",
    "ml = model(md, nrow, ncol, delr, nsper, ntper, K, Ss, BC2Q, BC3h, BC3c)    \n",
    "\n",
    "ml.write_input()\n",
    "success, buff = ml.run_model(silent=True)\n",
    "hds_base = bf.HeadFile(md+'/'+'model.hds').get_alldata()\n",
    "hob_base = float(hds_base[-1,0,0,ocol])"
   ]
  },
  {
   "cell_type": "markdown",
   "metadata": {},
   "source": [
    "The spatial distribution of hydraulic head calculated by the 'base' forward model can be presented visually as follows."
   ]
  },
  {
   "cell_type": "code",
   "execution_count": 6,
   "metadata": {},
   "outputs": [
    {
     "data": {
      "image/png": "[encoded data removed]",
      "text/plain": [
       "<Figure size 680.315x481.89 with 3 Axes>"
      ]
     },
     "metadata": {
      "needs_background": "light"
     },
     "output_type": "display_data"
    }
   ],
   "source": [
    "f,s = plt.subplots(2, 1, figsize=[24.00/2.54, 17.00/2.54])\n",
    "s[0].set_aspect(0.4)\n",
    "s[0].set_title('Forward model - base parameter set\\n')\n",
    "s[0].plot(delr/2.+delr*np.arange(ncol), hds_base[-1,0,0,:].flatten(), 'ko--', mfc='none')\n",
    "s[0].plot(delr/2.+delr*np.arange(ncol), [Theis(r, 3., Q=BC2Q, T=K, S=Ss, h0=BC3h)\n",
    "                                         for r in delr/2.+delr*np.arange(ncol)], 'x', mec='r', mfc='none')\n",
    "s[0].set_xlabel('$r$ (m)')\n",
    "s[0].set_ylabel('$h$ (m)')\n",
    "s[0].spines['top'].set_visible(False)            \n",
    "s[0].spines['right'].set_visible(False)            \n",
    "s[1].set_aspect('equal')\n",
    "p = s[1].pcolor(hds_base[-1,0,:,:], edgecolors='k', linewidths=2, cmap='viridis')\n",
    "s[1].set_xlabel('$r$ (m)')\n",
    "s[1].set_ylabel('$z$ (m)')\n",
    "s[1].set_yticks([0., 1.])\n",
    "s[1].set_yticklabels([-101., -100.])\n",
    "l = f.colorbar(p, orientation='horizontal', pad=0.4, aspect=30, label='Hydraulic head ($h$; m)')\n",
    "d = s[0].set_xlim(s[1].get_xlim())"
   ]
  },
  {
   "cell_type": "markdown",
   "metadata": {},
   "source": [
    "Second, the forward model featuring the perturbed parameter set is run. "
   ]
  },
  {
   "cell_type": "code",
   "execution_count": 7,
   "metadata": {},
   "outputs": [],
   "source": [
    "md = 'forward_perturbed'\n",
    "ml = model(md, nrow, ncol, delr, nsper, ntper, K, Ss, BC2Q, BC3h, BC3c)    \n",
    "\n",
    "ml.remove_package('lpf')\n",
    "hk = np.reshape([2.*np.pi*K*(1.0+dpar)*(delr*i+delr/2.) for i in range(ncol)], [1, ncol])  \n",
    "flopy.modflow.ModflowLpf(ml, hk=hk, vka=-999., ss=Ss, sy=-999., layavg=1, ipakcb=53)\n",
    "\n",
    "ml.write_input()\n",
    "success, buff = ml.run_model(silent=True)\n",
    "\n",
    "hds_pert = bf.HeadFile(md+'/'+'model.hds').get_alldata()\n",
    "hob_pert = float(hds_pert[-1,0,0,ocol])"
   ]
  },
  {
   "cell_type": "markdown",
   "metadata": {},
   "source": [
    "The spatial distribution of hydraulic head calculated by the perturbed forward model can be presented visually as follows."
   ]
  },
  {
   "cell_type": "code",
   "execution_count": 8,
   "metadata": {},
   "outputs": [
    {
     "data": {
      "image/png": "[encoded data removed]",
      "text/plain": [
       "<Figure size 680.315x481.89 with 3 Axes>"
      ]
     },
     "metadata": {
      "needs_background": "light"
     },
     "output_type": "display_data"
    }
   ],
   "source": [
    "f,s = plt.subplots(2, 1, figsize=[24.00/2.54, 17.00/2.54])\n",
    "s[0].set_aspect(0.4)\n",
    "s[0].set_title('Forward model - perturbed parameter set\\n')\n",
    "s[0].plot(delr/2.+delr*np.arange(ncol), hds_pert[-1,0,:,:].flatten(), 'ko--', mfc='none')\n",
    "s[0].plot(delr/2.+delr*np.arange(ncol), [Theis(r, 3., Q=BC2Q, T=K*(1.0+dpar), S=Ss, h0=BC3h) \n",
    "                                         for r in delr/2.+delr*np.arange(ncol)], 'x', mec='r', mfc='none')\n",
    "s[0].set_xlabel('$r$ (m)')\n",
    "s[0].set_ylabel('$h$ (m)')\n",
    "s[0].spines['top'].set_visible(False)            \n",
    "s[0].spines['right'].set_visible(False)            \n",
    "s[1].set_aspect('equal')\n",
    "p = s[1].pcolor(hds_pert[-1,0,:,:], edgecolors='k', linewidths=2, cmap='viridis')\n",
    "s[1].set_xlabel('$r$ (m)')\n",
    "s[1].set_ylabel('$z$ (m)')\n",
    "s[1].set_yticks([0., 1.])\n",
    "s[1].set_yticklabels([-101., -100.])\n",
    "l = f.colorbar(p, orientation='horizontal', pad=0.4, aspect=30, label='Hydraulic head ($h$; m)')\n",
    "d = s[0].set_xlim(s[1].get_xlim())"
   ]
  },
  {
   "cell_type": "markdown",
   "metadata": {},
   "source": [
    "Third, the perturbation-based sensitivity is calculated."
   ]
  },
  {
   "cell_type": "code",
   "execution_count": 9,
   "metadata": {},
   "outputs": [],
   "source": [
    "dh_dK_pert = (hob_pert-hob_base)/(K*dpar)"
   ]
  },
  {
   "cell_type": "markdown",
   "metadata": {},
   "source": [
    "### 3. Sensitivity calculation using adjoint state-based approach"
   ]
  },
  {
   "cell_type": "markdown",
   "metadata": {},
   "source": [
    "First, the adjoint state model is defined. This is mostly identical to the forward model, except for three conditions: \n",
    "1. The value specified on the Dirichlet boundary condition is set to zero.\n",
    "2. The Neumann boundary condition is omitted.\n",
    "3. A constant source of adjoint state is specified at the location of the hydraulic head observation of interest using a  source term with flux magnitude equal to unity."
   ]
  },
  {
   "cell_type": "code",
   "execution_count": 10,
   "metadata": {},
   "outputs": [],
   "source": [
    "md = 'adjoint'\n",
    "ml = model(md, nrow, ncol, delr, nsper, ntper, K, Ss, BC2Q, BC3h, BC3c)    \n",
    "\n",
    "ml.remove_package('bas6')\n",
    "ibound = np.ones([nrow, ncol], dtype=int)\n",
    "ibound[:, ncol-1] = -1\n",
    "strt = np.zeros([nrow, ncol])\n",
    "flopy.modflow.ModflowBas(ml, ibound=ibound, strt=strt)\n",
    "\n",
    "ml.remove_package('wel')\n",
    "flopy.modflow.ModflowWel(ml, stress_period_data={0: [0, 0, ocol, 1.]}, ipakcb=53)\n",
    "   \n",
    "ml.remove_package('ghb')\n",
    "flopy.modflow.ModflowGhb(ml, stress_period_data={0: [0, 0, ncol-1, 0., BC3c]}, ipakcb=53)\n",
    "\n",
    "ml.write_input()\n",
    "success, buff = ml.run_model(silent=True)\n",
    "\n",
    "adj = bf.HeadFile(md+'/'+'model.hds').get_alldata()"
   ]
  },
  {
   "cell_type": "markdown",
   "metadata": {},
   "source": [
    "The adjoint state model grid and boundary conditions can be presented visually as follows."
   ]
  },
  {
   "cell_type": "code",
   "execution_count": 11,
   "metadata": {},
   "outputs": [
    {
     "data": {
      "image/png": "[encoded data removed]",
      "text/plain": [
       "<Figure size 680.315x198.425 with 1 Axes>"
      ]
     },
     "metadata": {
      "needs_background": "light"
     },
     "output_type": "display_data"
    }
   ],
   "source": [
    "f,s = plt.subplots(1, 1, figsize=[24.00/2.54, 7.00/2.54])\n",
    "s.set_aspect('equal')\n",
    "s.set_title('Adjoint state model grid and boundary conditions\\n')\n",
    "grid = np.hstack([0.5*np.ones([1, ncol-1]), np.ones([1,1])])\n",
    "s.pcolor(grid, edgecolors='k', linewidths=2, cmap='bwr', vmin=0.0, vmax=1.0)\n",
    "grid[0, ocol] = 2.\n",
    "s.pcolor(np.ma.masked_not_equal(grid, 2.), edgecolors='k', linewidths=2, cmap='Purples', vmin=0.0, vmax=2.0)\n",
    "s.set_xlabel('$r$ (m)')\n",
    "s.set_ylabel('$z$ (m)')\n",
    "s.set_yticks([0., 1.])\n",
    "s.set_yticklabels([-101., -100.])\n",
    "l = f.legend(handles=[Patch(facecolor='indigo', edgecolor='k', \n",
    "                            label=\"Impulse unit source term at observation well location ($r'$)\"),\n",
    "                      Patch(facecolor='r', edgecolor='k', \n",
    "                            label='Zero-valued Robin boundary condition ($\\Gamma_3$)')], \n",
    "             fancybox=False, frameon=False, loc=8, ncol=3)"
   ]
  },
  {
   "cell_type": "markdown",
   "metadata": {},
   "source": [
    "The spatial distribution of the adjoint state variable calculated by the adjoint model can be presented visually as follows. Note that the value of the adjoint state variable is zero at the right-most cell; this is because the Dirichlet boundary condition is zero-valued in the adjoint state model."
   ]
  },
  {
   "cell_type": "code",
   "execution_count": 12,
   "metadata": {},
   "outputs": [
    {
     "data": {
      "image/png": "[encoded data removed]",
      "text/plain": [
       "<Figure size 680.315x481.89 with 3 Axes>"
      ]
     },
     "metadata": {
      "needs_background": "light"
     },
     "output_type": "display_data"
    }
   ],
   "source": [
    "f,s = plt.subplots(2, 1, figsize=[24.00/2.54, 17.00/2.54])\n",
    "s[0].set_aspect(2.)\n",
    "s[0].set_title('Adjoint state model\\n')\n",
    "s[0].plot(0.5+np.arange(ncol), adj[-1,0,:,:].flatten(), 'ko--', mfc='none')\n",
    "s[0].set_xlabel('$r$ (m)')\n",
    "s[0].set_ylabel('$\\psi^*$ (-)')\n",
    "s[0].spines['top'].set_visible(False)            \n",
    "s[0].spines['right'].set_visible(False)            \n",
    "s[1].set_aspect('equal')\n",
    "p = s[1].pcolor(adj[-1,0,:,:], edgecolors='k', linewidths=2, cmap='viridis')\n",
    "s[1].set_xlabel('$r$ (m)')\n",
    "s[1].set_ylabel('$z$ (m)')\n",
    "s[1].set_yticks([0., 1.])\n",
    "s[1].set_yticklabels([-101., -100.])\n",
    "l = f.colorbar(p, orientation='horizontal', pad=0.4, aspect=30, \n",
    "               label='Adjoint state variable ($\\psi^*$; dimensionless)')\n",
    "d = s[0].set_xlim(s[1].get_xlim())"
   ]
  },
  {
   "cell_type": "markdown",
   "metadata": {},
   "source": [
    "Second, the adjoint state sensitivity is calculated. For this example [i.e. for the sensitivity $\\partial h(r')/\\partial K$], this is calculated using a combination of forward and adjoint model outputs, as described by the equation presented above."
   ]
  },
  {
   "cell_type": "code",
   "execution_count": 13,
   "metadata": {},
   "outputs": [],
   "source": [
    "adj = adj[::-1,:,:,:]\n",
    "dh_dK_adj = np.sum(np.abs(np.gradient(hds_base[:,0,0,:]))*np.abs(np.gradient(adj[:, 0,0,:])))"
   ]
  },
  {
   "cell_type": "markdown",
   "metadata": {},
   "source": [
    "This comparison of divergence term values shows that the contribution of cells located upgradient of the observation location to the adjoint sensitivity will be zero."
   ]
  },
  {
   "cell_type": "markdown",
   "metadata": {},
   "source": [
    "### 4. Comparison of calculated sensitivities"
   ]
  },
  {
   "cell_type": "code",
   "execution_count": 14,
   "metadata": {},
   "outputs": [
    {
     "name": "stdout",
     "output_type": "stream",
     "text": [
      "Perturbation-based sensitivity  =       2.455711\n",
      "Adjoint state-based sensitivity =       0.284422\n",
      "\n",
      "Ratio                           =   8.634035e+00\n",
      "Difference (absolute)           =  -2.171289e+00\n",
      "Difference (percent)            =   8.841793e-01\n"
     ]
    }
   ],
   "source": [
    "print 'Perturbation-based sensitivity  = '+str('%14.6f'%  dh_dK_pert)\n",
    "print 'Adjoint state-based sensitivity = '+str('%14.6f'%  dh_dK_adj)\n",
    "print\n",
    "print 'Ratio                           = '+str('%14.6e'% (dh_dK_pert/dh_dK_adj))\n",
    "print 'Difference (absolute)           = '+str('%14.6e'% (dh_dK_adj-dh_dK_pert))\n",
    "print 'Difference (percent)            = '+str('%14.6e'%  abs((dh_dK_adj-dh_dK_pert)/dh_dK_pert))"
   ]
  },
  {
   "cell_type": "code",
   "execution_count": null,
   "metadata": {},
   "outputs": [],
   "source": []
  }
 ],
 "metadata": {
  "anaconda-cloud": {},
  "kernelspec": {
   "display_name": "Python [default]",
   "language": "python",
   "name": "python2"
  },
  "language_info": {
   "codemirror_mode": {
    "name": "ipython",
    "version": 2
   },
   "file_extension": ".py",
   "mimetype": "text/x-python",
   "name": "python",
   "nbconvert_exporter": "python",
   "pygments_lexer": "ipython2",
   "version": "2.7.12"
  }
 },
 "nbformat": 4,
 "nbformat_minor": 2
}
