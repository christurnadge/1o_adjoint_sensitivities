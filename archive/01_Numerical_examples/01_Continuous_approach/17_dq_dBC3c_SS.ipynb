{
 "cells": [
  {
   "cell_type": "markdown",
   "metadata": {},
   "source": [
    "### Sensitivity of velocity magnitude at a point to Robin boundary conductance value under steady state flow conditions"
   ]
  },
  {
   "cell_type": "markdown",
   "metadata": {},
   "source": [
    "The sensitivity of velocity magnitude ($\\lVert\\bf{q}\\rVert$) at a given point ($x'$) to the conductance value specified on a Robin boundary (i.e. on $\\Gamma_3$) under steady state flow conditions in a one-dimensional plane can be calculated using an adjoint state-based approach as:\n",
    "$$\\begin{align}\\cr\n",
    "\\frac{\\lVert\\bf{q}(\\it{x'})\\rVert}{\\partial c_{\\Gamma_3}}=\\oint\\limits_{\\Gamma_3} \\psi^*(x)\\;[h_{\\Gamma_3}-h(x)]\\;dx\n",
    "\\cr\\cr\\end{align}$$\n",
    "This expression states that this sensitivity is equal to the integral of the product of:\n",
    "1. the hydraulic gradient on the Robin boundary, as calculated by the forward model; and,\n",
    "2. the adjoint state variable along the Robin boundary, as calculated by the adjoint state model."
   ]
  },
  {
   "cell_type": "markdown",
   "metadata": {},
   "source": [
    "### 1. Model setup"
   ]
  },
  {
   "cell_type": "markdown",
   "metadata": {},
   "source": [
    "Here we define the model as a callable function, since it will be used by each of:\n",
    "1. The forward model, featuring a 'base' set of parameter values;\n",
    "2. A perturbed version of the forward model, featuring an infinitesimal increase in $c_{\\Gamma_3}$; and\n",
    "3. The adjoint state model.\n",
    "\n",
    "Each model is defined using the following six parameters:\n",
    "1. Number of model columns ($ncol$)\n",
    "2. Cell width along rows ($delr$)\n",
    "3. Hydraulic conductivity ($K$)\n",
    "4. Hydraulic head specified on Dirichlet boundary ($h_{\\Gamma_1}$) \n",
    "5. Hydraulic head specified on Robin boundary ($h_{\\Gamma_3}$) \n",
    "6. Conductance specified on Robin boundary ($c_{\\Gamma_3}$) \n",
    "\n",
    "The variable $md$ is used to specify the working directory for each model.\n",
    "\n",
    "Top and bottom of aquifer elevations are set to -100.0 and -101.0 metres respectively (resulting in an aquifer that is one metre thick) to ensure confined conditions.\n",
    "\n",
    "Robin boundary conditions are specified on the left-hand side of the model to represent inflows.\n",
    "\n",
    "Dirichlet boundary conditions are specified on the right-hand side of the model to represent outflows.\n",
    "\n",
    "Relatively tight convergence criteria values (i.e. 10$^{-6}$) are specified to ensure accuracy of perturbation-based sensitivities, which are based on differences between forward model outputs.\n",
    "\n",
    "The velocity magnitude observation of interest is located at the midpoint of the model domain."
   ]
  },
  {
   "cell_type": "code",
   "execution_count": 1,
   "metadata": {},
   "outputs": [
    {
     "name": "stdout",
     "output_type": "stream",
     "text": [
      "flopy is installed in C:\\Python27\\Lib\\site-packages\\flopy\n"
     ]
    }
   ],
   "source": [
    "%matplotlib inline\n",
    "import flopy\n",
    "import numpy as np\n",
    "import matplotlib as mpl\n",
    "import matplotlib.pyplot as plt\n",
    "from matplotlib.patches import Patch\n",
    "import flopy.utils.binaryfile as bf\n",
    "\n",
    "def model(md, nrow, ncol, delr, K, BC1h, BC3h, BC3c):\n",
    "    ml =  flopy.modflow.Modflow(modelname='model', model_ws=md)\n",
    "    nrow = 1\n",
    "    flopy.modflow.ModflowDis(ml, nlay=1, nrow=1, ncol=ncol, nper=1, delr=delr, delc=1., \n",
    "                             top=-100.0, botm=-101.0, steady=True, perlen=1., nstp=1)\n",
    "    ibound = np.ones([nrow, ncol], dtype=int)\n",
    "    ibound[:, ncol-1] = -1 \n",
    "    strt = BC1h*np.ones([nrow, ncol], dtype=float)\n",
    "    flopy.modflow.ModflowBas(ml, ibound=ibound, strt=strt)\n",
    "    flopy.modflow.ModflowLpf(ml, hk=K, vka=-999., ss=-999., sy=-999., ipakcb=53)\n",
    "    flopy.modflow.ModflowGhb(ml, stress_period_data={0: [0, 0, 0, BC3h, BC3c]}, ipakcb=53)\n",
    "    flopy.modflow.ModflowPcg(ml, hclose=1e-6, rclose=1e-6)\n",
    "    flopy.modflow.ModflowOc(ml, stress_period_data={(0,0): ['save head', 'save budget']})\n",
    "    return ml"
   ]
  },
  {
   "cell_type": "markdown",
   "metadata": {},
   "source": [
    "Values for the 'base' parameter set are defined as follows. These can be modified to demonstrate the method for other model configurations."
   ]
  },
  {
   "cell_type": "code",
   "execution_count": 2,
   "metadata": {},
   "outputs": [],
   "source": [
    "nrow = 1\n",
    "ncol = 7\n",
    "ocol = (ncol-1)/2\n",
    "delr = 1.0\n",
    "K    = 0.2\n",
    "BC1h = 1.0\n",
    "BC3h = 40.0\n",
    "BC3c = 1.0\n",
    "dpar = 1e-4"
   ]
  },
  {
   "cell_type": "markdown",
   "metadata": {},
   "source": [
    "The model grid and boundary conditions can be presented visually as follows."
   ]
  },
  {
   "cell_type": "code",
   "execution_count": 3,
   "metadata": {},
   "outputs": [
    {
     "data": {
      "image/png": "[encoded data removed]",
      "text/plain": [
       "<Figure size 680.315x198.425 with 1 Axes>"
      ]
     },
     "metadata": {
      "needs_background": "light"
     },
     "output_type": "display_data"
    }
   ],
   "source": [
    "f,s = plt.subplots(1, 1, figsize=[24.00/2.54, 7.00/2.54])\n",
    "s.set_aspect('equal')\n",
    "grid = np.hstack([np.zeros([1,1]), 0.5*np.ones([1, ncol-2]), np.ones([1,1])])\n",
    "s.pcolor(grid, edgecolors='k', linewidths=2, cmap='bwr', vmin=0.0, vmax=1.0)\n",
    "grid[0, ocol] = 2.\n",
    "s.pcolor(np.ma.masked_not_equal(grid, 2.), edgecolors='k', linewidths=2, cmap='Purples', vmin=0.0, vmax=2.0)\n",
    "s.set_xlabel('$x$ (m)')\n",
    "s.set_ylabel('$z$ (m)')\n",
    "s.set_yticks([0., 1.])\n",
    "s.set_yticklabels([-101., -100.])\n",
    "l = f.legend(handles=[Patch(facecolor='b', edgecolor='k', label='Robin boundary condition ($\\Gamma_3$)'),\n",
    "                      Patch(facecolor='indigo', edgecolor='k', label=\"Observation well location ($x'$)\"),\n",
    "                      Patch(facecolor='r', edgecolor='k', label='Dirichlet boundary condition ($\\Gamma_1$)')], \n",
    "             fancybox=False, frameon=False, loc=8, ncol=3)"
   ]
  },
  {
   "cell_type": "markdown",
   "metadata": {},
   "source": [
    "### 2. Sensitivity calculation using perturbation-based approach"
   ]
  },
  {
   "cell_type": "markdown",
   "metadata": {},
   "source": [
    "First, the forward model featuring the 'base' parameter set is run."
   ]
  },
  {
   "cell_type": "code",
   "execution_count": 4,
   "metadata": {},
   "outputs": [],
   "source": [
    "md = 'forward_base'\n",
    "ml = model(md, nrow, ncol, delr, K, BC1h, BC3h, BC3c)    \n",
    "\n",
    "ml.write_input()\n",
    "success, buff = ml.run_model(silent=True)\n",
    "\n",
    "hds_base = bf.HeadFile(md+'/'+'model.hds').get_data()[0,:,:]\n",
    "flx_base = np.reshape(bf.CellBudgetFile(md+'/'+'model.cbc').get_data(kstpkper=(0,0), text='FLOW RIGHT FACE'),\n",
    "                      [1, ncol])\n",
    "qob_base = flx_base[0, ocol]"
   ]
  },
  {
   "cell_type": "markdown",
   "metadata": {},
   "source": [
    "The spatial distribution of velocity magnitude calculated by the 'base' forward model can be presented visually as follows."
   ]
  },
  {
   "cell_type": "code",
   "execution_count": 5,
   "metadata": {},
   "outputs": [
    {
     "data": {
      "image/png": "[encoded data removed]",
      "text/plain": [
       "<Figure size 680.315x481.89 with 3 Axes>"
      ]
     },
     "metadata": {
      "needs_background": "light"
     },
     "output_type": "display_data"
    }
   ],
   "source": [
    "f,s = plt.subplots(2, 1, figsize=[24.00/2.54, 17.00/2.54])\n",
    "s[0].set_aspect(1.0)\n",
    "s[0].set_title('Forward model - base parameter set\\n')\n",
    "s[0].plot(0.5+np.arange(ncol), flx_base.flatten(), 'ko--', mfc='none')\n",
    "s[0].set_xlabel('$x$ (m)')\n",
    "s[0].set_ylabel(r'$||\\bf{q}||$ (m.d$^{-1}$)')\n",
    "s[0].spines['top'].set_visible(False)            \n",
    "s[0].spines['right'].set_visible(False)            \n",
    "s[1].set_aspect('equal')\n",
    "p = s[1].pcolor(flx_base, edgecolors='k', linewidths=2, cmap='viridis')\n",
    "s[1].set_xlabel('$x$ (m)')\n",
    "s[1].set_ylabel('$z$ (m)')\n",
    "s[1].set_yticks([0., 1.])\n",
    "s[1].set_yticklabels([-101., -100.])\n",
    "l = f.colorbar(p, orientation='horizontal', pad=0.4, aspect=30,\n",
    "               label='Velocity magnitude ('+r'$||\\bf{q}||$; m.d$^{-1}$)')\n",
    "d = s[0].set_xlim(s[1].get_xlim())"
   ]
  },
  {
   "cell_type": "markdown",
   "metadata": {},
   "source": [
    "Second, the forward model featuring the perturbed parameter set is run. "
   ]
  },
  {
   "cell_type": "code",
   "execution_count": 6,
   "metadata": {},
   "outputs": [],
   "source": [
    "md = 'forward_perturbed'\n",
    "ml = model(md, nrow, ncol, delr, K, BC1h, BC3h, BC3c)    \n",
    "\n",
    "ml.remove_package('ghb')\n",
    "flopy.modflow.ModflowGhb(ml, stress_period_data={0: [0, 0, 0, BC3h, BC3c*(1.0+dpar)]}, ipakcb=53)\n",
    "\n",
    "ml.write_input()\n",
    "success, buff = ml.run_model(silent=True)\n",
    "\n",
    "flx_pert = np.reshape(bf.CellBudgetFile(md+'/'+'model.cbc').get_data(kstpkper=(0,0), text='FLOW RIGHT FACE'),\n",
    "                      [1, ncol])\n",
    "qob_pert = flx_pert[0, ocol]"
   ]
  },
  {
   "cell_type": "markdown",
   "metadata": {},
   "source": [
    "The spatial distribution of velocity magnitude calculated by the perturbed forward model can be presented visually as follows."
   ]
  },
  {
   "cell_type": "code",
   "execution_count": 7,
   "metadata": {},
   "outputs": [
    {
     "data": {
      "image/png": "[encoded data removed]",
      "text/plain": [
       "<Figure size 680.315x481.89 with 3 Axes>"
      ]
     },
     "metadata": {
      "needs_background": "light"
     },
     "output_type": "display_data"
    }
   ],
   "source": [
    "f,s = plt.subplots(2, 1, figsize=[24.00/2.54, 17.00/2.54])\n",
    "s[0].set_aspect(1.0)\n",
    "s[0].set_title('Forward model - perturbed parameter set\\n')\n",
    "s[0].plot(0.5+np.arange(ncol), flx_pert.flatten(), 'ko--', mfc='none')\n",
    "s[0].set_xlabel('$x$ (m)')\n",
    "s[0].set_ylabel(r'$||\\bf{q}||$ (m.d$^{-1}$)')\n",
    "s[0].spines['top'].set_visible(False)            \n",
    "s[0].spines['right'].set_visible(False)            \n",
    "s[1].set_aspect('equal')\n",
    "p = s[1].pcolor(flx_pert, edgecolors='k', linewidths=2, cmap='viridis')\n",
    "s[1].set_xlabel('$x$ (m)')\n",
    "s[1].set_ylabel('$z$ (m)')\n",
    "s[1].set_yticks([0., 1.])\n",
    "s[1].set_yticklabels([-101., -100.])\n",
    "l = f.colorbar(p, orientation='horizontal', pad=0.4, aspect=30,\n",
    "               label='Velocity magnitude ('+r'$||\\bf{q}||$; m.d$^{-1}$)')\n",
    "d = s[0].set_xlim(s[1].get_xlim())"
   ]
  },
  {
   "cell_type": "markdown",
   "metadata": {},
   "source": [
    "Third, the perturbation-based sensitivity is calculated."
   ]
  },
  {
   "cell_type": "code",
   "execution_count": 8,
   "metadata": {},
   "outputs": [],
   "source": [
    "dq_dBC3c_pert = (qob_pert-qob_base)/(BC3c*dpar)"
   ]
  },
  {
   "cell_type": "markdown",
   "metadata": {},
   "source": [
    "### 3. Sensitivity calculation using adjoint state-based approach"
   ]
  },
  {
   "cell_type": "markdown",
   "metadata": {},
   "source": [
    "First, the adjoint state model is defined. This is mostly identical to the forward model, except for three conditions: \n",
    "1. The value specified on the Dirichlet boundary condition is set to zero.\n",
    "2. The Robin boundary condition is omitted. \n",
    "3. The source of adjoint state is specified at the location of the velocity magnitude observation of interest using a  source term with flux magnitude equal to $K/delr$."
   ]
  },
  {
   "cell_type": "code",
   "execution_count": 9,
   "metadata": {},
   "outputs": [],
   "source": [
    "md = 'adjoint'\n",
    "ml = model(md, nrow, ncol, delr, K, BC1h, BC3h, BC3c)    \n",
    "\n",
    "ml.remove_package('bas6')\n",
    "ibound = np.ones([nrow, ncol], dtype=int)\n",
    "ibound[:, ncol-1] = -1\n",
    "strt = np.zeros([nrow, ncol])\n",
    "flopy.modflow.ModflowBas(ml, ibound=ibound, strt=strt)\n",
    "\n",
    "ml.remove_package('ghb')\n",
    "flopy.modflow.ModflowGhb(ml, stress_period_data={0: [0, 0, 0, 0., BC3c]}, ipakcb=53)\n",
    "\n",
    "flopy.modflow.ModflowWel(ml, stress_period_data={0: [0, 0, ocol, K/delr/3.]}, ipakcb=53)\n",
    "\n",
    "ml.write_input()\n",
    "success, buff = ml.run_model(silent=True)\n",
    "adj = bf.HeadFile(md+'/'+'model.hds').get_data()[0,:,:]"
   ]
  },
  {
   "cell_type": "markdown",
   "metadata": {},
   "source": [
    "The adjoint state model grid and boundary conditions can be presented visually as follows."
   ]
  },
  {
   "cell_type": "code",
   "execution_count": 10,
   "metadata": {},
   "outputs": [
    {
     "data": {
      "image/png": "[encoded data removed]",
      "text/plain": [
       "<Figure size 680.315x198.425 with 1 Axes>"
      ]
     },
     "metadata": {
      "needs_background": "light"
     },
     "output_type": "display_data"
    }
   ],
   "source": [
    "f,s = plt.subplots(1, 1, figsize=[24.00/2.54, 7.00/2.54])\n",
    "s.set_aspect('equal')\n",
    "s.set_title('Adjoint state model grid and boundary conditions\\n')\n",
    "grid = np.hstack([np.zeros([1,1]), 0.5*np.ones([1, ncol-2]), np.ones([1,1])])\n",
    "s.pcolor(grid, edgecolors='k', linewidths=2, cmap='bwr', vmin=0.0, vmax=1.0)\n",
    "grid[0, ocol] = 2.\n",
    "s.pcolor(np.ma.masked_not_equal(grid, 2.), edgecolors='k', linewidths=2, cmap='Purples', vmin=0.0, vmax=2.0)\n",
    "s.set_xlabel('$x$ (m)')\n",
    "s.set_ylabel('$z$ (m)')\n",
    "s.set_yticks([0., 1.])\n",
    "s.set_yticklabels([-101., -100.])\n",
    "l = f.legend(handles=[Patch(facecolor='b', edgecolor='k', label='Robin boundary condition ($\\Gamma_3$)'),\n",
    "                      Patch(facecolor='indigo', edgecolor='k', \n",
    "                            label=\"Constant unit source term at observation well location ($x'$)\"),\n",
    "                      Patch(facecolor='r', edgecolor='k', \n",
    "                            label='Zero-valued Dirichlet boundary condition ($\\Gamma_1$)')], \n",
    "             fancybox=False, frameon=False, loc=8, ncol=3)"
   ]
  },
  {
   "cell_type": "markdown",
   "metadata": {},
   "source": [
    "The spatial distribution of the adjoint state variable calculated by the adjoint model can be presented visually as follows. Note that the value of the adjoint state variable is zero at the right-most cell; this is because the Dirichlet boundary condition is zero-valued in the adjoint state model."
   ]
  },
  {
   "cell_type": "code",
   "execution_count": 11,
   "metadata": {},
   "outputs": [
    {
     "data": {
      "image/png": "[encoded data removed]",
      "text/plain": [
       "<Figure size 680.315x481.89 with 3 Axes>"
      ]
     },
     "metadata": {
      "needs_background": "light"
     },
     "output_type": "display_data"
    }
   ],
   "source": [
    "f,s = plt.subplots(2, 1, figsize=[24.00/2.54, 17.00/2.54])\n",
    "s[0].set_aspect(0.8)\n",
    "s[0].set_title('Adjoint state model\\n')\n",
    "s[0].plot(0.5+np.arange(ncol), adj.flatten(), 'ko--', mfc='none')\n",
    "s[0].set_xlabel('$x$ (m)')\n",
    "s[0].set_ylabel('$\\psi^*$ (-)')\n",
    "s[0].spines['top'].set_visible(False)            \n",
    "s[0].spines['right'].set_visible(False)            \n",
    "s[1].set_aspect('equal')\n",
    "p = s[1].pcolor(adj, edgecolors='k', linewidths=2, cmap='viridis')\n",
    "s[1].set_xlabel('$x$ (m)')\n",
    "s[1].set_ylabel('$z$ (m)')\n",
    "s[1].set_yticks([0., 1.])\n",
    "s[1].set_yticklabels([-101., -100.])\n",
    "l = f.colorbar(p, orientation='horizontal', pad=0.4, aspect=30, \n",
    "               label='Adjoint state variable ($\\psi^*$; dimensionless)')\n",
    "d = s[0].set_xlim(s[1].get_xlim())"
   ]
  },
  {
   "cell_type": "markdown",
   "metadata": {},
   "source": [
    "Second, the adjoint state sensitivity is calculated. For this example [i.e. for the sensitivity $\\partial \\lVert\\bf{q}(\\it{x}')\\rVert/\\partial c_{\\Gamma_3}$], this is calculated using a combination of forward and adjoint model outputs, as described by the equation presented above."
   ]
  },
  {
   "cell_type": "code",
   "execution_count": 12,
   "metadata": {},
   "outputs": [],
   "source": [
    "dq_dBC3c_adj  = adj[0, 0]*(BC3h-hds_base[0,0])"
   ]
  },
  {
   "cell_type": "markdown",
   "metadata": {},
   "source": [
    "### 4. Comparison of calculated sensitivities"
   ]
  },
  {
   "cell_type": "code",
   "execution_count": 14,
   "metadata": {},
   "outputs": [
    {
     "name": "stdout",
     "output_type": "stream",
     "text": [
      "Perturbation-based sensitivity  =       0.040531\n",
      "Adjoint state-based sensitivity =       0.040583\n",
      "\n",
      "Ratio                           =   9.987294e-01\n",
      "Difference (absolute)           =   5.156342e-05\n",
      "Difference (percent)            =   1.272192e-03\n"
     ]
    }
   ],
   "source": [
    "print 'Perturbation-based sensitivity  = '+str('%14.6f'%  dq_dBC3c_pert)\n",
    "print 'Adjoint state-based sensitivity = '+str('%14.6f'%  dq_dBC3c_adj)\n",
    "print\n",
    "print 'Ratio                           = '+str('%14.6e'% (dq_dBC3c_pert/dq_dBC3c_adj))\n",
    "print 'Difference (absolute)           = '+str('%14.6e'% (dq_dBC3c_adj -dq_dBC3c_pert))\n",
    "print 'Difference (percent)            = '+str('%14.6e'%  abs((dq_dBC3c_adj-dq_dBC3c_pert)/dq_dBC3c_pert))"
   ]
  },
  {
   "cell_type": "code",
   "execution_count": null,
   "metadata": {},
   "outputs": [],
   "source": []
  }
 ],
 "metadata": {
  "anaconda-cloud": {},
  "kernelspec": {
   "display_name": "Python [default]",
   "language": "python",
   "name": "python2"
  },
  "language_info": {
   "codemirror_mode": {
    "name": "ipython",
    "version": 2
   },
   "file_extension": ".py",
   "mimetype": "text/x-python",
   "name": "python",
   "nbconvert_exporter": "python",
   "pygments_lexer": "ipython2",
   "version": "2.7.12"
  }
 },
 "nbformat": 4,
 "nbformat_minor": 2
}
