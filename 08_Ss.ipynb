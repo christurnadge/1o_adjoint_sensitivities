{
 "cells": [
  {
   "cell_type": "markdown",
   "metadata": {},
   "source": [
    "## Example 8.\n",
    "### Sensitivity of hydraulic head at a point and at a discrete time to <font color='blue'>spatially uniform specific storage</font> under transient flow conditions\n",
    "\n",
    "## 0. Forward model\n",
    "<br>\n",
    "Governing equation:\n",
    "\n",
    "$\\begin{align}\n",
    "\\quad\\quad K\\ b\\ \\frac{\\partial^2h}{\\partial x^2}+R=S_s\\ b\\ \\frac{\\partial h}{\\partial t}\\cr\n",
    "\\cr\\end{align}$\n",
    "\n",
    "Boundary conditions:\n",
    "\n",
    "$\\begin{align}\n",
    "\\quad\\quad -K\\ b\\ \\frac{dh(x)}{dx}=0\\ ,\\quad\\quad\\quad\\;\\;\\, x=0=\\Gamma_2\\cr\n",
    "\\end{align}$\n",
    "\n",
    "$\\begin{align}\n",
    "\\quad\\quad h(x,t)=h_{\\Gamma_{1_L}}\\ ,\\quad\\quad\\quad\\quad\\quad x=L=\\Gamma_{1_L}\\cr\n",
    "\\cr\\end{align}$\n",
    "\n",
    "Initial conditions:\n",
    "\n",
    "$\\begin{align}\n",
    "\\quad\\quad h(x,t)=h_0\\ ,\\quad\\quad\\quad\\quad\\quad\\quad t=0\\cr\n",
    "\\cr\\end{align}$\n",
    "\n",
    "Closed-form solution:\n",
    "\n",
    "$\\begin{align}\n",
    "\\quad\\quad \\rm{Not\\ available}\n",
    "\\cr\\cr\\end{align}$\n",
    "\n",
    "Spatial derivatives from differentiation:\n",
    "\n",
    "$\\begin{align}\n",
    "\\quad\\quad \\rm{Not\\ available}\n",
    "\\cr\\cr\\end{align}$"
   ]
  },
  {
   "cell_type": "code",
   "execution_count": 91,
   "metadata": {},
   "outputs": [],
   "source": [
    "from IPython.display import HTML, display\n",
    "def set_background(color):\n",
    "    script = (\n",
    "        \"var cell = this.closest('.code_cell');\"\n",
    "        \"var editor = cell.querySelector('.input_area');\"\n",
    "        \"editor.style.background='{}';\"\n",
    "        \"this.parentNode.removeChild(this)\").format(color)\n",
    "    display(HTML('<img src onerror=\"{}\">'.format(script)))"
   ]
  },
  {
   "cell_type": "code",
   "execution_count": 92,
   "metadata": {},
   "outputs": [],
   "source": [
    "from warnings import filterwarnings\n",
    "filterwarnings(\"ignore\", category=DeprecationWarning)\n",
    "\n",
    "import numpy as np\n",
    "\n",
    "K, Ss, R, b, L, BC1h, ocol, nper = 10., 1e-2, 1e-1/1000., 10., 10000., 0., 5000, 1000\n",
    "X = np.arange(L)"
   ]
  },
  {
   "cell_type": "markdown",
   "metadata": {},
   "source": [
    "## 1. Direct sensitivity\n",
    "\n",
    "$\\begin{align}\n",
    "\\quad\\quad\\rm{Not\\ available}\n",
    "\\cr\\end{align}$"
   ]
  },
  {
   "cell_type": "markdown",
   "metadata": {},
   "source": [
    "## 2. Perturbation sensitivity\n",
    "$\\begin{align}\\cr\n",
    "\\frac{\\partial h(x')}{\\partial S_s}\\approx\\frac{h(x,S_s+\\Delta S_s)-h(x,S_s)}{\\Delta S_s}\\;\n",
    "\\cr\\cr\\end{align}$\n",
    "\n",
    "### 2a. Analytical\n",
    "\n",
    "$\\begin{align}\n",
    "\\quad\\quad\\rm{Not\\ available}\n",
    "\\cr\\end{align}$"
   ]
  },
  {
   "cell_type": "markdown",
   "metadata": {},
   "source": [
    "### 2b. Semi-analytical\n",
    "\n",
    "$\\begin{align}\n",
    "\\quad\\quad\\rm{Not\\ available}\n",
    "\\cr\\end{align}$"
   ]
  },
  {
   "cell_type": "markdown",
   "metadata": {},
   "source": [
    "### 2c. Numerical"
   ]
  },
  {
   "cell_type": "code",
   "execution_count": 93,
   "metadata": {},
   "outputs": [
    {
     "data": {
      "image/png": "[encoded data removed]",
      "text/plain": [
       "<Figure size 576x144 with 1 Axes>"
      ]
     },
     "metadata": {
      "needs_background": "light"
     },
     "output_type": "display_data"
    }
   ],
   "source": [
    "import flopy\n",
    "\n",
    "dpar = 1e-2\n",
    "nrow, ncol = 1, int(L)\n",
    "M0 = flopy.modflow.Modflow(modelname='model', exe_name='../mf2005.exe')\n",
    "flopy.modflow.ModflowDis(M0, nlay=1, nrow=nrow, ncol=ncol, nper=nper, delr=1., delc=1., top=0., botm=-b,\n",
    "                         steady=False, perlen=np.ones(nper), nstp=1)\n",
    "flopy.modflow.ModflowBas(M0, ibound=np.hstack([np.ones([nrow, ncol-1], dtype=int), -1*np.ones([1,1])]), \n",
    "                         strt=np.hstack([50.*np.ones([nrow, ncol-1], dtype=float), np.atleast_2d([0.])]))\n",
    "flopy.modflow.ModflowLpf(M0, hk=K, vka=-999., ss=Ss, sy=-999., ipakcb=53)\n",
    "flopy.modflow.ModflowRch(M0, nrchop=1, rech={0:R}, ipakcb=53)\n",
    "flopy.modflow.ModflowPcg(M0, hclose=1e-6, rclose=1e-6)\n",
    "flopy.modflow.ModflowOc(M0, stress_period_data={(i,0): ['save head'] for i in range(nper)})\n",
    "M0.write_input()\n",
    "success, buff = M0.run_model(silent=True)\n",
    "H0 = flopy.utils.binaryfile.HeadFile('model.hds').get_data(kstpkper=[0,nper-1])[0,0,:]\n",
    "hdt = np.gradient(np.array([flopy.utils.binaryfile.HeadFile('model.hds').get_data(kstpkper=[0,i])[0,0,:] \n",
    "                            for i in range(nper)]), axis=0)\n",
    "\n",
    "%matplotlib inline\n",
    "import matplotlib as mpl\n",
    "import matplotlib.pyplot as plt\n",
    "plt.subplots(figsize=[8,2])\n",
    "plt.plot(X/1000., H0, 'k--', mfc='none', label='forward solution, numerical')\n",
    "plt.xlabel('$x$ (km)')\n",
    "plt.ylabel('$h$ (m)')\n",
    "plt.legend(loc=3);"
   ]
  },
  {
   "cell_type": "code",
   "execution_count": 94,
   "metadata": {
    "scrolled": true
   },
   "outputs": [
    {
     "data": {
      "image/png": "[encoded data removed]",
      "text/plain": [
       "<Figure size 576x144 with 1 Axes>"
      ]
     },
     "metadata": {
      "needs_background": "light"
     },
     "output_type": "display_data"
    }
   ],
   "source": [
    "M1 = M0\n",
    "flopy.modflow.ModflowLpf(M1, hk=K, vka=-999., ss=Ss+Ss*dpar, sy=-999., ipakcb=53)\n",
    "M1.write_input()\n",
    "success, buff = M1.run_model(silent=True)\n",
    "H1 = flopy.utils.binaryfile.HeadFile('model.hds').get_data(kstpkper=[0,nper-1])[0,0,:]\n",
    "dhdSs = (H1-H0)/(Ss*dpar)\n",
    "benchmark = dhdSs[ocol]\n",
    "\n",
    "%matplotlib inline\n",
    "import matplotlib as mpl\n",
    "import matplotlib.pyplot as plt\n",
    "f,s = plt.subplots(figsize=[8,2])\n",
    "plt.plot(X/1000., dhdSs, 'k--', mfc='none', label='perturbation sensitivity, numerical')\n",
    "plt.xlabel('$x$ (km)')\n",
    "plt.ylabel(r'$\\partial h / \\partial S_s$')\n",
    "plt.legend();"
   ]
  },
  {
   "cell_type": "code",
   "execution_count": 96,
   "metadata": {},
   "outputs": [
    {
     "data": {
      "text/html": [
       "<img src onerror=\"var cell = this.closest('.code_cell');var editor = cell.querySelector('.input_area');editor.style.background='rgba(0, 200, 0, 0.2)';this.parentNode.removeChild(this)\">"
      ],
      "text/plain": [
       "<IPython.core.display.HTML object>"
      ]
     },
     "metadata": {},
     "output_type": "display_data"
    },
    {
     "name": "stdout",
     "output_type": "stream",
     "text": [
      "-86.555481\n"
     ]
    }
   ],
   "source": [
    "set_background('rgba(0, 200, 0, 0.2)')\n",
    "print('%.6f'% dhdSs[ocol])"
   ]
  },
  {
   "cell_type": "markdown",
   "metadata": {},
   "source": [
    "## 3. Adjoint sensitivity\n",
    "\n",
    "<br>\n",
    "    \n",
    "$\\begin{align}\n",
    "\\quad\\quad \\frac{\\partial h(x')}{\\partial S_s}=\\int\\limits_T\\int\\limits_X\\psi^*_1(x,t'-t)\\ \\frac{dh(x,t)}{dt}\\;dx\\ dt\\cr\\end{align}$\n",
    "\n",
    "Governing equation:\n",
    "\n",
    "$\\begin{align}\n",
    "\\quad\\quad K\\ b\\ \\frac{\\partial^2\\psi^*_1}{\\partial x^2}+\\delta(x-x')\\;\\delta(t-t')=-S_s\\ b\\ \\frac{\\partial \\psi^*_1}{\\partial \\tau}\\cr\n",
    "\\cr\\end{align}$\n",
    "\n",
    "Boundary conditions:\n",
    "\n",
    "$\\begin{align}\n",
    "\\quad\\quad -K\\ b\\ \\frac{d\\psi^*_1}{dx}=0\\ ,\\quad\\quad\\quad\\;\\;\\, x=0=\\Gamma_2\\cr\n",
    "\\end{align}$\n",
    "\n",
    "$\\begin{align}\n",
    "\\quad\\quad \\psi^*_1(x,t)=0\\ ,\\quad\\quad\\quad\\quad\\quad x=L=\\Gamma_{1_L}\\cr\n",
    "\\cr\\end{align}$\n",
    "\n",
    "Terminal conditions:\n",
    "\n",
    "$\\begin{align}\n",
    "\\quad\\quad \\psi^*_1(x,t)=0\\ ,\\quad\\quad\\quad\\quad\\quad\\quad t=t_{final}\\cr\n",
    "\\cr\\end{align}$\n",
    "\n",
    "Closed-form solution:\n",
    "\n",
    "$\\begin{align}\n",
    "\\quad\\quad\\rm{Not\\ available}\n",
    "\\cr\\end{align}$"
   ]
  },
  {
   "cell_type": "markdown",
   "metadata": {},
   "source": [
    "### 3a. Analytical\n",
    "\n",
    "$\\begin{align}\n",
    "\\quad\\quad\\rm{Not\\ available}\n",
    "\\cr\\end{align}$"
   ]
  },
  {
   "cell_type": "markdown",
   "metadata": {},
   "source": [
    "### 3b. Semi-analytical\n",
    "\n",
    "$\\begin{align}\n",
    "\\quad\\quad\\rm{Not\\ available}\n",
    "\\cr\\end{align}$"
   ]
  },
  {
   "cell_type": "markdown",
   "metadata": {},
   "source": [
    "### 3c. Numerical"
   ]
  },
  {
   "cell_type": "code",
   "execution_count": 97,
   "metadata": {
    "scrolled": true
   },
   "outputs": [
    {
     "data": {
      "image/png": "[encoded data removed]",
      "text/plain": [
       "<Figure size 576x144 with 1 Axes>"
      ]
     },
     "metadata": {
      "needs_background": "light"
     },
     "output_type": "display_data"
    }
   ],
   "source": [
    "M0 = flopy.modflow.Modflow(modelname='model', exe_name='../mf2005.exe')\n",
    "flopy.modflow.ModflowDis(M0, nlay=1, nrow=1, ncol=ncol, nper=nper, delr=1., delc=1., top=0., botm=-b, \n",
    "                         steady=False, perlen=np.ones(nper), nstp=1)\n",
    "strt = np.zeros([nrow, ncol], dtype=float)\n",
    "strt[0,ocol] = 1./Ss/b\n",
    "flopy.modflow.ModflowBas(M0, ibound=np.hstack([np.ones([nrow, ncol-1], dtype=int), -1*np.ones([1,1])]), \n",
    "                         strt=strt)\n",
    "flopy.modflow.ModflowLpf(M0, hk=K, vka=-999., ss=Ss, sy=-999., ipakcb=53)\n",
    "flopy.modflow.ModflowPcg(M0, hclose=1e-6, rclose=1e-6)\n",
    "flopy.modflow.ModflowOc(M0, stress_period_data={(i,0): ['save head'] for i in range(nper)})\n",
    "M0.write_input()\n",
    "success, buff = M0.run_model(silent=True)\n",
    "A = np.array([flopy.utils.binaryfile.HeadFile('model.hds').get_data(kstpkper=[0,i])[0,0,:] \n",
    "              for i in range(nper)])[::-1,:]\n",
    "\n",
    "%matplotlib inline\n",
    "import matplotlib as mpl\n",
    "import matplotlib.pyplot as plt\n",
    "f,s = plt.subplots(figsize=[8,2])\n",
    "plt.plot(X/1000., np.ravel(A[0,:]), 'k--', mfc='none', label='adjoint solution, numerical')\n",
    "plt.xlabel('$x$ (km)')\n",
    "plt.ylabel(r'$\\psi^*_1$ (1/$L$)')\n",
    "plt.legend();"
   ]
  },
  {
   "cell_type": "code",
   "execution_count": 100,
   "metadata": {
    "scrolled": true
   },
   "outputs": [
    {
     "data": {
      "image/png": "[encoded data removed]",
      "text/plain": [
       "<Figure size 576x144 with 1 Axes>"
      ]
     },
     "metadata": {
      "needs_background": "light"
     },
     "output_type": "display_data"
    }
   ],
   "source": [
    "dhdSs = np.empty(0)\n",
    "for oc in [int(x) for x in X[::1000]]:\n",
    "    M1 = M0\n",
    "    strt = np.zeros([nrow, ncol], dtype=float)\n",
    "    strt[0,oc] = 1./Ss/b\n",
    "    flopy.modflow.ModflowBas(M1, ibound=np.hstack([np.ones([nrow, ncol-1], dtype=int), -1*np.ones([1,1])]), \n",
    "                             strt=strt)  \n",
    "    M1.write_input()\n",
    "    success, buff = M1.run_model(silent=True)\n",
    "    A = flopy.utils.binaryfile.HeadFile('model.hds').get_data(kstpkper=[0,nper-1])[0,0,:]\n",
    "    dhdSs = np.append(dhdSs, np.sum(np.sum(np.multiply(A, dhdt), axis=0), axis=0)*b) \n",
    "\n",
    "%matplotlib inline\n",
    "import matplotlib as mpl\n",
    "import matplotlib.pyplot as plt\n",
    "f,s = plt.subplots(figsize=[8,2])\n",
    "plt.plot(X[::1000]/1000., dhdSs, 'k--', mfc='none', label='adjoint sensitivity, numerical')\n",
    "plt.xlabel('$x$ (km)')\n",
    "plt.ylabel(r'$\\partial h / \\partial S_s$')\n",
    "plt.legend();"
   ]
  },
  {
   "cell_type": "code",
   "execution_count": 101,
   "metadata": {
    "scrolled": false
   },
   "outputs": [
    {
     "data": {
      "text/html": [
       "<img src onerror=\"var cell = this.closest('.code_cell');var editor = cell.querySelector('.input_area');editor.style.background='rgba(0, 200, 0, 0.2)';this.parentNode.removeChild(this)\">"
      ],
      "text/plain": [
       "<IPython.core.display.HTML object>"
      ]
     },
     "metadata": {},
     "output_type": "display_data"
    },
    {
     "name": "stdout",
     "output_type": "stream",
     "text": [
      "-85.246525 (-86.555481)\n"
     ]
    }
   ],
   "source": [
    "set_background('rgba(0, 200, 0, 0.2)')\n",
    "print('%.6f (%.6f)'% (dhdSs[int(np.where(X[::1000]==float(ocol))[0])], benchmark))"
   ]
  },
  {
   "cell_type": "code",
   "execution_count": null,
   "metadata": {},
   "outputs": [],
   "source": []
  }
 ],
 "metadata": {
  "kernelspec": {
   "display_name": "Python 3",
   "language": "python",
   "name": "python3"
  },
  "language_info": {
   "codemirror_mode": {
    "name": "ipython",
    "version": 3
   },
   "file_extension": ".py",
   "mimetype": "text/x-python",
   "name": "python",
   "nbconvert_exporter": "python",
   "pygments_lexer": "ipython3",
   "version": "3.8.5"
  }
 },
 "nbformat": 4,
 "nbformat_minor": 4
}
